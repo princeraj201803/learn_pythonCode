{
 "cells": [
  {
   "cell_type": "code",
   "execution_count": 8,
   "id": "db74a188-4f3e-4033-add5-0a50a6c3dc19",
   "metadata": {},
   "outputs": [],
   "source": [
    "class test:\n",
    "    def test_math(self):\n",
    "        return \"This is my first class\""
   ]
  },
  {
   "cell_type": "code",
   "execution_count": 9,
   "id": "423b1134-787a-4179-8bf0-cfb59852daf5",
   "metadata": {},
   "outputs": [],
   "source": [
    "class child_test(test):\n",
    "    pass"
   ]
  },
  {
   "cell_type": "code",
   "execution_count": 10,
   "id": "74dd433d-bcce-4c2e-a6f1-8e3c89dc7130",
   "metadata": {},
   "outputs": [],
   "source": [
    "child_test_obj = child_test()"
   ]
  },
  {
   "cell_type": "code",
   "execution_count": 11,
   "id": "cb716d2d-4688-4ba5-aafc-eaea950ed626",
   "metadata": {},
   "outputs": [
    {
     "data": {
      "text/plain": [
       "'This is my first class'"
      ]
     },
     "execution_count": 11,
     "metadata": {},
     "output_type": "execute_result"
    }
   ],
   "source": [
    "child_test_obj.test_math()"
   ]
  },
  {
   "cell_type": "code",
   "execution_count": 12,
   "id": "63363258-f88f-4900-9185-9c2eb5940923",
   "metadata": {},
   "outputs": [],
   "source": [
    "class prince:\n",
    "    def test_math(self):\n",
    "        return \"My name is prince raj\""
   ]
  },
  {
   "cell_type": "code",
   "execution_count": 13,
   "id": "d2923ac7-8cf0-4264-959b-fdac5c512571",
   "metadata": {},
   "outputs": [],
   "source": [
    "class raj_prince(prince):\n",
    "    pass"
   ]
  },
  {
   "cell_type": "code",
   "execution_count": 14,
   "id": "6f5817cd-c68c-43f2-a697-ab4abca561ae",
   "metadata": {},
   "outputs": [],
   "source": [
    "raj_prince_obj = raj_prince()"
   ]
  },
  {
   "cell_type": "code",
   "execution_count": 16,
   "id": "03beafcb-4402-428f-9821-fac4d9d00fff",
   "metadata": {},
   "outputs": [
    {
     "data": {
      "text/plain": [
       "'My name is prince raj'"
      ]
     },
     "execution_count": 16,
     "metadata": {},
     "output_type": "execute_result"
    }
   ],
   "source": [
    "raj_prince_obj.test_math()"
   ]
  },
  {
   "cell_type": "code",
   "execution_count": 17,
   "id": "a7826dda-b8cc-4d2b-a5cf-1765a1b8aaf7",
   "metadata": {},
   "outputs": [],
   "source": [
    "class cse:\n",
    "    def datascience(self):\n",
    "        return \"My specialistaion is data science\""
   ]
  },
  {
   "cell_type": "code",
   "execution_count": 19,
   "id": "134cb9e0-57e8-4365-afe4-4c825d1654e9",
   "metadata": {},
   "outputs": [],
   "source": [
    "class it(cse):\n",
    "    pass"
   ]
  },
  {
   "cell_type": "code",
   "execution_count": 20,
   "id": "a4fee4a3-7221-4a93-ab05-c7f9711a9eb6",
   "metadata": {},
   "outputs": [],
   "source": [
    "it_obj = it()"
   ]
  },
  {
   "cell_type": "code",
   "execution_count": 21,
   "id": "9035d692-824f-4f8f-931a-df6ead9e854b",
   "metadata": {},
   "outputs": [
    {
     "data": {
      "text/plain": [
       "'My specialistaion is data science'"
      ]
     },
     "execution_count": 21,
     "metadata": {},
     "output_type": "execute_result"
    }
   ],
   "source": [
    "it_obj.datascience()"
   ]
  },
  {
   "cell_type": "code",
   "execution_count": 22,
   "id": "2da1016a-2625-4707-ac1f-94d6d55fd42a",
   "metadata": {},
   "outputs": [],
   "source": [
    "class class1:\n",
    "    def tes_class1(self):\n",
    "        return \"this is a method from class1\""
   ]
  },
  {
   "cell_type": "code",
   "execution_count": 26,
   "id": "855db0e9-26ad-4e91-a46e-aa189f431686",
   "metadata": {},
   "outputs": [],
   "source": [
    "class class2(class1):\n",
    "    def test_class2(self):\n",
    "        return \"this is a method from class 2\""
   ]
  },
  {
   "cell_type": "code",
   "execution_count": 27,
   "id": "bc0432be-12dc-4b02-b2d4-8469dd8f7262",
   "metadata": {},
   "outputs": [],
   "source": [
    "class class3(class2):\n",
    "    pass"
   ]
  },
  {
   "cell_type": "code",
   "execution_count": 28,
   "id": "490b8aed-384a-4294-9116-595c0d03a74e",
   "metadata": {},
   "outputs": [],
   "source": [
    "obj_class3 = class3()"
   ]
  },
  {
   "cell_type": "code",
   "execution_count": 29,
   "id": "5928c222-e10b-4780-a7da-faded0d1c9ed",
   "metadata": {},
   "outputs": [
    {
     "data": {
      "text/plain": [
       "'this is a method from class 2'"
      ]
     },
     "execution_count": 29,
     "metadata": {},
     "output_type": "execute_result"
    }
   ],
   "source": [
    "obj_class3.test_class2()"
   ]
  },
  {
   "cell_type": "code",
   "execution_count": 30,
   "id": "12a3f7b4-131c-4097-b61b-11a93a109c44",
   "metadata": {},
   "outputs": [
    {
     "data": {
      "text/plain": [
       "'this is a method from class1'"
      ]
     },
     "execution_count": 30,
     "metadata": {},
     "output_type": "execute_result"
    }
   ],
   "source": [
    "obj_class3.tes_class1()"
   ]
  },
  {
   "cell_type": "code",
   "execution_count": 31,
   "id": "1cd1301d-3f85-46ee-9890-338536cb8bc6",
   "metadata": {},
   "outputs": [],
   "source": [
    "class class1:\n",
    "    def test_class1(self):\n",
    "        return \"this is a class1:\""
   ]
  },
  {
   "cell_type": "code",
   "execution_count": 32,
   "id": "ca0e4097-38ef-4571-a04c-4195352765ec",
   "metadata": {},
   "outputs": [],
   "source": [
    "class clas2:\n",
    "    def test_class2():\n",
    "        return \"this is class 2\""
   ]
  },
  {
   "cell_type": "code",
   "execution_count": null,
   "id": "d50e0b85-e37d-478b-890f-6a1680259a13",
   "metadata": {},
   "outputs": [],
   "source": [
    "class clas3(clas1,clas2):\n",
    "    pass"
   ]
  },
  {
   "cell_type": "code",
   "execution_count": 33,
   "id": "7867b0b3-4ac9-4921-b3ae-cac07559a5ad",
   "metadata": {},
   "outputs": [],
   "source": [
    "obj = clas3()"
   ]
  },
  {
   "cell_type": "code",
   "execution_count": 35,
   "id": "bd7237ee-42bf-45f6-aef1-ec651bddd612",
   "metadata": {},
   "outputs": [
    {
     "data": {
      "text/plain": [
       "'this is a method from class1'"
      ]
     },
     "execution_count": 35,
     "metadata": {},
     "output_type": "execute_result"
    }
   ],
   "source": [
    "obj.tes_class1()"
   ]
  },
  {
   "cell_type": "code",
   "execution_count": 36,
   "id": "6e51c9a7-df70-4c56-bacb-8914278332ff",
   "metadata": {},
   "outputs": [],
   "source": [
    "class kumar:\n",
    "    def test_kumar(self):\n",
    "        return \"this is kumar class\""
   ]
  },
  {
   "cell_type": "code",
   "execution_count": 37,
   "id": "8f263040-1659-44b8-bfc0-31f36f9832f6",
   "metadata": {},
   "outputs": [],
   "source": [
    "class kumari:\n",
    "    def test_kumari(self):\n",
    "        return \"this is kumari class:\""
   ]
  },
  {
   "cell_type": "code",
   "execution_count": 38,
   "id": "956afe0d-8259-460a-98ac-2eaaf2b4083f",
   "metadata": {},
   "outputs": [],
   "source": [
    "class hero(kumar,kumari):\n",
    "    pass"
   ]
  },
  {
   "cell_type": "code",
   "execution_count": 42,
   "id": "84cbe227-0db5-4faa-a88c-550e37b063f8",
   "metadata": {},
   "outputs": [],
   "source": [
    "obj_class = hero()"
   ]
  },
  {
   "cell_type": "code",
   "execution_count": 43,
   "id": "bb12bfe6-5414-4416-bca9-5f0e53912680",
   "metadata": {},
   "outputs": [
    {
     "data": {
      "text/plain": [
       "'this is kumar class'"
      ]
     },
     "execution_count": 43,
     "metadata": {},
     "output_type": "execute_result"
    }
   ],
   "source": [
    "obj_class.test_kumar()"
   ]
  },
  {
   "cell_type": "code",
   "execution_count": null,
   "id": "04c12e7a-5bdb-41dd-ad87-847ad632907f",
   "metadata": {},
   "outputs": [],
   "source": []
  }
 ],
 "metadata": {
  "kernelspec": {
   "display_name": "Python 3 (ipykernel)",
   "language": "python",
   "name": "python3"
  },
  "language_info": {
   "codemirror_mode": {
    "name": "ipython",
    "version": 3
   },
   "file_extension": ".py",
   "mimetype": "text/x-python",
   "name": "python",
   "nbconvert_exporter": "python",
   "pygments_lexer": "ipython3",
   "version": "3.10.8"
  }
 },
 "nbformat": 4,
 "nbformat_minor": 5
}
