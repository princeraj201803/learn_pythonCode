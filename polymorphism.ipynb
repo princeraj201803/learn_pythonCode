{
 "cells": [
  {
   "cell_type": "code",
   "execution_count": 1,
   "id": "ab294c01-db32-40aa-96c4-4dc8343ba8b0",
   "metadata": {},
   "outputs": [],
   "source": [
    "def test(a,b):\n",
    "    return a+b\n",
    "\n"
   ]
  },
  {
   "cell_type": "code",
   "execution_count": 2,
   "id": "b83a3dd0-26ed-4406-8b76-43fcd2e0fe36",
   "metadata": {},
   "outputs": [
    {
     "data": {
      "text/plain": [
       "7"
      ]
     },
     "execution_count": 2,
     "metadata": {},
     "output_type": "execute_result"
    }
   ],
   "source": [
    "test(3,4)"
   ]
  },
  {
   "cell_type": "code",
   "execution_count": 3,
   "id": "80eb0ed2-f38a-4597-9992-03d4f4fa4600",
   "metadata": {},
   "outputs": [
    {
     "data": {
      "text/plain": [
       "'rajkumar'"
      ]
     },
     "execution_count": 3,
     "metadata": {},
     "output_type": "execute_result"
    }
   ],
   "source": [
    "test(\"raj\",\"kumar\")"
   ]
  },
  {
   "cell_type": "code",
   "execution_count": 4,
   "id": "536166e1-c977-4023-a491-d0d7db54c50c",
   "metadata": {},
   "outputs": [
    {
     "data": {
      "text/plain": [
       "[3, 4, 56, 2, 3, 7, 8, 90]"
      ]
     },
     "execution_count": 4,
     "metadata": {},
     "output_type": "execute_result"
    }
   ],
   "source": [
    "test([3,4,56,2],[3,7,8,90])"
   ]
  },
  {
   "cell_type": "code",
   "execution_count": 5,
   "id": "71a7d32f-fc5e-4597-8ae0-9d38cd68df6f",
   "metadata": {},
   "outputs": [],
   "source": [
    "class DataScience:\n",
    "    def syllabus(self):\n",
    "        print(\"This is my syllabus for data Science Master\")"
   ]
  },
  {
   "cell_type": "code",
   "execution_count": 9,
   "id": "13941d2c-74ee-46cc-9816-64789f4e9745",
   "metadata": {},
   "outputs": [],
   "source": [
    "class web_dev:\n",
    "    def syllabus(self):\n",
    "        \n",
    "        print(\"This is my syllabus foe web dev\")"
   ]
  },
  {
   "cell_type": "code",
   "execution_count": 15,
   "id": "f08e874b-e739-4aeb-bb58-d050dc6d216d",
   "metadata": {},
   "outputs": [],
   "source": [
    "def class_parser(class_obj):\n",
    "    for i in class_obj:\n",
    "        i.syllabus()"
   ]
  },
  {
   "cell_type": "code",
   "execution_count": 11,
   "id": "9e03df1f-831b-4f3f-8aae-47022984cc0a",
   "metadata": {},
   "outputs": [],
   "source": [
    "datascience = DataScience()"
   ]
  },
  {
   "cell_type": "code",
   "execution_count": 12,
   "id": "9686a93f-735b-480e-bca3-54429c1d4aca",
   "metadata": {},
   "outputs": [],
   "source": [
    "webdev = web_dev()"
   ]
  },
  {
   "cell_type": "code",
   "execution_count": 13,
   "id": "5074b23d-4059-4f19-baad-6e84326c1e87",
   "metadata": {},
   "outputs": [],
   "source": [
    "class_obj = [datascience,webdev]"
   ]
  },
  {
   "cell_type": "code",
   "execution_count": 16,
   "id": "5e762da1-3882-40b7-828b-0cd7f7a03f79",
   "metadata": {},
   "outputs": [
    {
     "name": "stdout",
     "output_type": "stream",
     "text": [
      "This is my syllabus for data Science Master\n",
      "This is my syllabus foe web dev\n"
     ]
    }
   ],
   "source": [
    "class_parser(class_obj)"
   ]
  },
  {
   "cell_type": "code",
   "execution_count": null,
   "id": "ae551ebd-56b3-45dc-a4d1-baf33e10d321",
   "metadata": {},
   "outputs": [],
   "source": []
  }
 ],
 "metadata": {
  "kernelspec": {
   "display_name": "Python 3 (ipykernel)",
   "language": "python",
   "name": "python3"
  },
  "language_info": {
   "codemirror_mode": {
    "name": "ipython",
    "version": 3
   },
   "file_extension": ".py",
   "mimetype": "text/x-python",
   "name": "python",
   "nbconvert_exporter": "python",
   "pygments_lexer": "ipython3",
   "version": "3.10.8"
  }
 },
 "nbformat": 4,
 "nbformat_minor": 5
}
