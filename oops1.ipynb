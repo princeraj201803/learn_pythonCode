{
 "cells": [
  {
   "cell_type": "code",
   "execution_count": 1,
   "id": "c8e0ca72-0766-4067-b7eb-984486170225",
   "metadata": {},
   "outputs": [
    {
     "data": {
      "text/plain": [
       "4"
      ]
     },
     "execution_count": 1,
     "metadata": {},
     "output_type": "execute_result"
    }
   ],
   "source": [
    "2+2\n"
   ]
  },
  {
   "cell_type": "code",
   "execution_count": 3,
   "id": "2f05765f-ee7a-4a37-acc2-d189701fcbc8",
   "metadata": {},
   "outputs": [
    {
     "name": "stdout",
     "output_type": "stream",
     "text": [
      "<class 'str'>\n"
     ]
    }
   ],
   "source": [
    "print(type(\"prince\"))"
   ]
  },
  {
   "cell_type": "code",
   "execution_count": 4,
   "id": "d51c3a69-14c9-4172-8a77-8a16286aec63",
   "metadata": {},
   "outputs": [],
   "source": [
    "class test :\n",
    "    pass"
   ]
  },
  {
   "cell_type": "code",
   "execution_count": 5,
   "id": "5d139665-69d6-4d5f-9643-fa63db4e7795",
   "metadata": {},
   "outputs": [
    {
     "data": {
      "text/plain": [
       "4"
      ]
     },
     "execution_count": 5,
     "metadata": {},
     "output_type": "execute_result"
    }
   ],
   "source": [
    "2+2"
   ]
  },
  {
   "cell_type": "code",
   "execution_count": 6,
   "id": "58cf3179-3cb4-4a41-8b47-779f7a84746b",
   "metadata": {},
   "outputs": [
    {
     "data": {
      "text/plain": [
       "9"
      ]
     },
     "execution_count": 6,
     "metadata": {},
     "output_type": "execute_result"
    }
   ],
   "source": [
    "3*3"
   ]
  },
  {
   "cell_type": "code",
   "execution_count": 7,
   "id": "947c3f92-7ad4-4c60-99c2-4c2efb984168",
   "metadata": {},
   "outputs": [
    {
     "data": {
      "text/plain": [
       "12"
      ]
     },
     "execution_count": 7,
     "metadata": {},
     "output_type": "execute_result"
    }
   ],
   "source": [
    "3*4"
   ]
  },
  {
   "cell_type": "code",
   "execution_count": 8,
   "id": "010e8a7f-1482-40fe-8e2c-121cb74a0e85",
   "metadata": {},
   "outputs": [
    {
     "data": {
      "text/plain": [
       "2"
      ]
     },
     "execution_count": 8,
     "metadata": {},
     "output_type": "execute_result"
    }
   ],
   "source": [
    "1*2"
   ]
  },
  {
   "cell_type": "code",
   "execution_count": 9,
   "id": "0f5ab4ac-a88f-41e6-b060-bcef0a0d94fb",
   "metadata": {},
   "outputs": [
    {
     "name": "stdout",
     "output_type": "stream",
     "text": [
      "<class 'str'>\n"
     ]
    }
   ],
   "source": [
    "print(type(\"rajkumar\"))"
   ]
  },
  {
   "cell_type": "code",
   "execution_count": 11,
   "id": "265db7e0-7ba3-47b5-a5cc-cd4c9db5c6cc",
   "metadata": {},
   "outputs": [],
   "source": [
    "class test:\n",
    "    pass"
   ]
  },
  {
   "cell_type": "code",
   "execution_count": null,
   "id": "2b5cad03-71ae-4b23-8bce-6fdb1c7d2e2b",
   "metadata": {},
   "outputs": [],
   "source": [
    "a = test()"
   ]
  },
  {
   "cell_type": "code",
   "execution_count": 12,
   "id": "f92d0b74-086b-410d-b133-e9dbd46087f0",
   "metadata": {},
   "outputs": [
    {
     "ename": "NameError",
     "evalue": "name 'a' is not defined",
     "output_type": "error",
     "traceback": [
      "\u001b[0;31m---------------------------------------------------------------------------\u001b[0m",
      "\u001b[0;31mNameError\u001b[0m                                 Traceback (most recent call last)",
      "Cell \u001b[0;32mIn[12], line 1\u001b[0m\n\u001b[0;32m----> 1\u001b[0m \u001b[38;5;28mtype\u001b[39m(\u001b[43ma\u001b[49m)\n",
      "\u001b[0;31mNameError\u001b[0m: name 'a' is not defined"
     ]
    }
   ],
   "source": [
    "type(a)"
   ]
  },
  {
   "cell_type": "code",
   "execution_count": 13,
   "id": "12165dc0-1111-4af1-963c-c24be995d52f",
   "metadata": {},
   "outputs": [],
   "source": [
    "class pwskills:\n",
    "    def welcome_mes(self):\n",
    "        print(\"welcome \")"
   ]
  },
  {
   "cell_type": "code",
   "execution_count": 14,
   "id": "8e6964c5-8c2b-486e-9d14-6540f1a49a25",
   "metadata": {},
   "outputs": [],
   "source": [
    "rohan = pwskills()"
   ]
  },
  {
   "cell_type": "code",
   "execution_count": 15,
   "id": "54c59962-bfff-4e20-9bdc-de6cd6b3777d",
   "metadata": {},
   "outputs": [
    {
     "name": "stdout",
     "output_type": "stream",
     "text": [
      "<class '__main__.pwskills'>\n"
     ]
    }
   ],
   "source": [
    "print(type(rohan))"
   ]
  },
  {
   "cell_type": "code",
   "execution_count": 18,
   "id": "83d5dbb5-6769-4ee9-922d-bb7a8ba11613",
   "metadata": {},
   "outputs": [
    {
     "ename": "TypeError",
     "evalue": "pwskills.welcome_mes() takes 0 positional arguments but 1 was given",
     "output_type": "error",
     "traceback": [
      "\u001b[0;31m---------------------------------------------------------------------------\u001b[0m",
      "\u001b[0;31mTypeError\u001b[0m                                 Traceback (most recent call last)",
      "Cell \u001b[0;32mIn[18], line 1\u001b[0m\n\u001b[0;32m----> 1\u001b[0m \u001b[43mrohan\u001b[49m\u001b[38;5;241;43m.\u001b[39;49m\u001b[43mwelcome_mes\u001b[49m\u001b[43m(\u001b[49m\u001b[43m)\u001b[49m\n",
      "\u001b[0;31mTypeError\u001b[0m: pwskills.welcome_mes() takes 0 positional arguments but 1 was given"
     ]
    }
   ],
   "source": [
    "rohan.welcome_mes()"
   ]
  },
  {
   "cell_type": "code",
   "execution_count": 19,
   "id": "9afb50f0-489b-45e2-b035-cc47ba7c06e9",
   "metadata": {},
   "outputs": [],
   "source": [
    "raj = pwskills()"
   ]
  },
  {
   "cell_type": "code",
   "execution_count": 20,
   "id": "ca338c04-ef67-469a-993f-1f6811f12d4b",
   "metadata": {},
   "outputs": [
    {
     "ename": "TypeError",
     "evalue": "pwskills.welcome_mes() takes 0 positional arguments but 1 was given",
     "output_type": "error",
     "traceback": [
      "\u001b[0;31m---------------------------------------------------------------------------\u001b[0m",
      "\u001b[0;31mTypeError\u001b[0m                                 Traceback (most recent call last)",
      "Cell \u001b[0;32mIn[20], line 1\u001b[0m\n\u001b[0;32m----> 1\u001b[0m \u001b[43mraj\u001b[49m\u001b[38;5;241;43m.\u001b[39;49m\u001b[43mwelcome_mes\u001b[49m\u001b[43m(\u001b[49m\u001b[43m)\u001b[49m\n",
      "\u001b[0;31mTypeError\u001b[0m: pwskills.welcome_mes() takes 0 positional arguments but 1 was given"
     ]
    }
   ],
   "source": [
    "raj.welcome_mes()"
   ]
  },
  {
   "cell_type": "code",
   "execution_count": 26,
   "id": "3a67e3b3-0b69-4442-bb97-f717e64f0388",
   "metadata": {},
   "outputs": [],
   "source": [
    "class pwskills1 :\n",
    "    \n",
    "    def _init_(self ,phone_number,email_id,student_id):\n",
    "        self.phone_number = phone_number\n",
    "        self.email_id = email_id\n",
    "        self.student_id = student_id\n",
    "        \n",
    "        def return_student_details(self) :\n",
    "            return self.student_id,self.email_id,self.phone_number\n",
    "     "
   ]
  },
  {
   "cell_type": "code",
   "execution_count": 27,
   "id": "842b872b-3a50-4936-9f80-278b07f14d4c",
   "metadata": {},
   "outputs": [
    {
     "ename": "TypeError",
     "evalue": "pwskills1() takes no arguments",
     "output_type": "error",
     "traceback": [
      "\u001b[0;31m---------------------------------------------------------------------------\u001b[0m",
      "\u001b[0;31mTypeError\u001b[0m                                 Traceback (most recent call last)",
      "Cell \u001b[0;32mIn[27], line 1\u001b[0m\n\u001b[0;32m----> 1\u001b[0m raj \u001b[38;5;241m=\u001b[39m \u001b[43mpwskills1\u001b[49m\u001b[43m(\u001b[49m\u001b[38;5;241;43m1234567890\u001b[39;49m\u001b[43m,\u001b[49m\u001b[38;5;124;43m\"\u001b[39;49m\u001b[38;5;124;43mraj@fgmail.com\u001b[39;49m\u001b[38;5;124;43m\"\u001b[39;49m\u001b[43m,\u001b[49m\u001b[38;5;241;43m102\u001b[39;49m\u001b[43m)\u001b[49m\n",
      "\u001b[0;31mTypeError\u001b[0m: pwskills1() takes no arguments"
     ]
    }
   ],
   "source": [
    "raj = pwskills1(1234567890,\"raj@fgmail.com\",102)"
   ]
  },
  {
   "cell_type": "code",
   "execution_count": 28,
   "id": "412c9df5-1770-4285-af53-fab2419dc5b5",
   "metadata": {},
   "outputs": [],
   "source": [
    "rohan = pwskills1()"
   ]
  },
  {
   "cell_type": "code",
   "execution_count": 32,
   "id": "b0b2f936-de52-477b-b82e-0d703ff59d03",
   "metadata": {},
   "outputs": [],
   "source": [
    "class information:\n",
    "    def marks(self):\n",
    "        print(\"hellow \")"
   ]
  },
  {
   "cell_type": "code",
   "execution_count": 33,
   "id": "c681c804-06be-4cf5-a1a6-678a82c484d3",
   "metadata": {},
   "outputs": [],
   "source": [
    "raj = information()"
   ]
  },
  {
   "cell_type": "code",
   "execution_count": 34,
   "id": "034defd3-97db-44fe-a2b4-225c93c4e631",
   "metadata": {},
   "outputs": [
    {
     "name": "stdout",
     "output_type": "stream",
     "text": [
      "hellow \n"
     ]
    }
   ],
   "source": [
    "raj.marks()"
   ]
  },
  {
   "cell_type": "code",
   "execution_count": 52,
   "id": "37e9b2cf-d0c3-4f8c-b9e1-441012e1463d",
   "metadata": {},
   "outputs": [],
   "source": [
    "class Prince:\n",
    "    \n",
    "    def __init__(self,phone_number,email_id,student_id):\n",
    "        self.phone_number = phone_number\n",
    "        self.email_id = email_id\n",
    "        self.student_id = student_id\n",
    "        \n",
    "    def return_student_details(self):\n",
    "        return self.phone_number,self.email_id,self.student_id\n",
    "        \n",
    "        "
   ]
  },
  {
   "cell_type": "code",
   "execution_count": 55,
   "id": "d404d300-8488-474c-ac41-c2a74966494e",
   "metadata": {},
   "outputs": [],
   "source": [
    "kumar = Prince(1234567890,\"ram@gmail.com\",123)"
   ]
  },
  {
   "cell_type": "code",
   "execution_count": 56,
   "id": "6a102925-b486-4e86-beb3-0bde526bf30e",
   "metadata": {},
   "outputs": [
    {
     "data": {
      "text/plain": [
       "(1234567890, 'ram@gmail.com', 123)"
      ]
     },
     "execution_count": 56,
     "metadata": {},
     "output_type": "execute_result"
    }
   ],
   "source": [
    "kumar.return_student_details()"
   ]
  },
  {
   "cell_type": "code",
   "execution_count": 59,
   "id": "c302d778-626d-419b-8510-bbaf4e2df2c8",
   "metadata": {},
   "outputs": [],
   "source": [
    "keshav = Prince(65432676,\"hsrdb\",23)"
   ]
  },
  {
   "cell_type": "code",
   "execution_count": 60,
   "id": "a03d8998-ed72-411f-b112-f34203605290",
   "metadata": {},
   "outputs": [
    {
     "data": {
      "text/plain": [
       "(65432676, 'hsrdb', 23)"
      ]
     },
     "execution_count": 60,
     "metadata": {},
     "output_type": "execute_result"
    }
   ],
   "source": [
    "keshav.return_student_details()"
   ]
  },
  {
   "cell_type": "code",
   "execution_count": 61,
   "id": "6e35821f-4d13-47b2-a9e6-c315a05d9ca4",
   "metadata": {},
   "outputs": [
    {
     "data": {
      "text/plain": [
       "1234567890"
      ]
     },
     "execution_count": 61,
     "metadata": {},
     "output_type": "execute_result"
    }
   ],
   "source": [
    "kumar.phone_number"
   ]
  },
  {
   "cell_type": "code",
   "execution_count": 63,
   "id": "1a5ba139-2f83-4099-ab27-55b30c7b379b",
   "metadata": {},
   "outputs": [],
   "source": [
    "class DataScience:\n",
    "    def __init__(raj,phone_number,email_id,student_id):\n",
    "        raj.phone_number = phone_number\n",
    "        raj.email_id = email_id\n",
    "        raj.student_id = student_id\n",
    "    \n",
    "    def ComputerScience(raj):\n",
    "        return raj.phone_number,raj.email_id,raj.student_id\n",
    "    "
   ]
  },
  {
   "cell_type": "code",
   "execution_count": 65,
   "id": "fd226c00-f31e-4851-b7c7-1691b8968f75",
   "metadata": {},
   "outputs": [],
   "source": [
    "Prince = DataScience(12334556787,\"raj@gmail.com\",234)"
   ]
  },
  {
   "cell_type": "code",
   "execution_count": 66,
   "id": "f32bc9e9-8a28-42ad-868e-6395c03d3adb",
   "metadata": {},
   "outputs": [
    {
     "data": {
      "text/plain": [
       "12334556787"
      ]
     },
     "execution_count": 66,
     "metadata": {},
     "output_type": "execute_result"
    }
   ],
   "source": [
    "Prince.phone_number"
   ]
  },
  {
   "cell_type": "code",
   "execution_count": 67,
   "id": "90c96f09-73b4-4c2c-93dc-7fd80c5b196f",
   "metadata": {},
   "outputs": [
    {
     "data": {
      "text/plain": [
       "'raj@gmail.com'"
      ]
     },
     "execution_count": 67,
     "metadata": {},
     "output_type": "execute_result"
    }
   ],
   "source": [
    "Prince.email_id"
   ]
  },
  {
   "cell_type": "code",
   "execution_count": 68,
   "id": "22deddab-f532-43e0-aa6a-d16339cf8c9f",
   "metadata": {},
   "outputs": [
    {
     "data": {
      "text/plain": [
       "(12334556787, 'raj@gmail.com', 234)"
      ]
     },
     "execution_count": 68,
     "metadata": {},
     "output_type": "execute_result"
    }
   ],
   "source": [
    "Prince.ComputerScience()"
   ]
  },
  {
   "cell_type": "code",
   "execution_count": null,
   "id": "7328da12-a628-48d5-9f3b-7e23c82e8d21",
   "metadata": {},
   "outputs": [],
   "source": []
  }
 ],
 "metadata": {
  "kernelspec": {
   "display_name": "Python 3 (ipykernel)",
   "language": "python",
   "name": "python3"
  },
  "language_info": {
   "codemirror_mode": {
    "name": "ipython",
    "version": 3
   },
   "file_extension": ".py",
   "mimetype": "text/x-python",
   "name": "python",
   "nbconvert_exporter": "python",
   "pygments_lexer": "ipython3",
   "version": "3.10.8"
  }
 },
 "nbformat": 4,
 "nbformat_minor": 5
}
