{
 "cells": [
  {
   "cell_type": "code",
   "execution_count": 2,
   "id": "2d79cd7c-d155-47b3-8674-c0a1cdc6a30a",
   "metadata": {},
   "outputs": [],
   "source": [
    "#Dictionary\n",
    "d = {}\n"
   ]
  },
  {
   "cell_type": "code",
   "execution_count": 3,
   "id": "7154e3ac-8d32-4498-9254-36b8894798a9",
   "metadata": {},
   "outputs": [
    {
     "data": {
      "text/plain": [
       "dict"
      ]
     },
     "execution_count": 3,
     "metadata": {},
     "output_type": "execute_result"
    }
   ],
   "source": [
    "type(d)"
   ]
  },
  {
   "cell_type": "code",
   "execution_count": 1,
   "id": "e249ac0d-1b28-4819-9fb4-17cb1023cd75",
   "metadata": {},
   "outputs": [],
   "source": [
    "d1 = {'key' : 'sudh'}"
   ]
  },
  {
   "cell_type": "code",
   "execution_count": 2,
   "id": "0664cbf1-df49-4da2-be49-05eab5376101",
   "metadata": {},
   "outputs": [
    {
     "data": {
      "text/plain": [
       "{'key': 'sudh'}"
      ]
     },
     "execution_count": 2,
     "metadata": {},
     "output_type": "execute_result"
    }
   ],
   "source": [
    "d1"
   ]
  },
  {
   "cell_type": "code",
   "execution_count": 3,
   "id": "5113a1e6-4a51-423a-9542-ab03b4c8dc7f",
   "metadata": {},
   "outputs": [],
   "source": [
    "d2 = {'name':'prince'}"
   ]
  },
  {
   "cell_type": "code",
   "execution_count": 4,
   "id": "3840134f-7b9d-433e-b65e-02d3758f2772",
   "metadata": {},
   "outputs": [
    {
     "data": {
      "text/plain": [
       "{'name': 'prince'}"
      ]
     },
     "execution_count": 4,
     "metadata": {},
     "output_type": "execute_result"
    }
   ],
   "source": [
    "d2"
   ]
  },
  {
   "cell_type": "code",
   "execution_count": 5,
   "id": "f809c8af-1360-4826-8f37-91176efd6017",
   "metadata": {},
   "outputs": [],
   "source": [
    "d3 = {'name':'prince','email':'princeraj','number':'345678'}"
   ]
  },
  {
   "cell_type": "code",
   "execution_count": 6,
   "id": "cdf53096-3889-4d4d-b6f6-c34d25e41289",
   "metadata": {},
   "outputs": [
    {
     "data": {
      "text/plain": [
       "{'name': 'prince', 'email': 'princeraj', 'number': '345678'}"
      ]
     },
     "execution_count": 6,
     "metadata": {},
     "output_type": "execute_result"
    }
   ],
   "source": [
    "d3"
   ]
  },
  {
   "cell_type": "code",
   "execution_count": 7,
   "id": "6fbc0233-028a-444e-a73a-8e3816b9afc3",
   "metadata": {},
   "outputs": [],
   "source": [
    "d4 = {234:'sudh',True:'prince','war':\"kumar\"}"
   ]
  },
  {
   "cell_type": "code",
   "execution_count": 8,
   "id": "14ee1002-82d8-4723-85f7-b9b9919ee15c",
   "metadata": {},
   "outputs": [
    {
     "data": {
      "text/plain": [
       "{234: 'sudh', True: 'prince', 'war': 'kumar'}"
      ]
     },
     "execution_count": 8,
     "metadata": {},
     "output_type": "execute_result"
    }
   ],
   "source": [
    "d4"
   ]
  },
  {
   "cell_type": "code",
   "execution_count": 10,
   "id": "7b70b3d9-8ce5-435a-ac32-207f6d821190",
   "metadata": {},
   "outputs": [
    {
     "data": {
      "text/plain": [
       "'sudh'"
      ]
     },
     "execution_count": 10,
     "metadata": {},
     "output_type": "execute_result"
    }
   ],
   "source": [
    "d4[234]"
   ]
  },
  {
   "cell_type": "code",
   "execution_count": 11,
   "id": "3728600e-2100-4d4b-b14c-c130ce92c55a",
   "metadata": {},
   "outputs": [
    {
     "data": {
      "text/plain": [
       "'prince'"
      ]
     },
     "execution_count": 11,
     "metadata": {},
     "output_type": "execute_result"
    }
   ],
   "source": [
    "d4[1]"
   ]
  },
  {
   "cell_type": "code",
   "execution_count": 12,
   "id": "9c527feb-322a-4f13-ac3a-887fe4bf1cf4",
   "metadata": {},
   "outputs": [],
   "source": [
    "d5={'name':\"prince\",\"mail\":\"dfgrthyj@\",'name':'raj'}"
   ]
  },
  {
   "cell_type": "code",
   "execution_count": 14,
   "id": "a5965138-7060-4638-8274-637b1a105817",
   "metadata": {},
   "outputs": [
    {
     "data": {
      "text/plain": [
       "'raj'"
      ]
     },
     "execution_count": 14,
     "metadata": {},
     "output_type": "execute_result"
    }
   ],
   "source": [
    "d5['name']"
   ]
  },
  {
   "cell_type": "code",
   "execution_count": 15,
   "id": "fd4b88a2-8952-4c2d-a63c-2696707861b4",
   "metadata": {},
   "outputs": [],
   "source": [
    "del d5['mail']"
   ]
  },
  {
   "cell_type": "code",
   "execution_count": 17,
   "id": "a117d3ea-4f86-4cc5-9bb5-3ddd40e0d2d0",
   "metadata": {},
   "outputs": [
    {
     "data": {
      "text/plain": [
       "{'name': 'raj'}"
      ]
     },
     "execution_count": 17,
     "metadata": {},
     "output_type": "execute_result"
    }
   ],
   "source": [
    "d5"
   ]
  },
  {
   "cell_type": "code",
   "execution_count": 29,
   "id": "ba894e5f-4e5c-4af0-b6f3-c42956f6d2e4",
   "metadata": {},
   "outputs": [
    {
     "name": "stdin",
     "output_type": "stream",
     "text": [
      "enter marks :  233\n"
     ]
    },
    {
     "name": "stdout",
     "output_type": "stream",
     "text": [
      "you will be a aprt of ao batch\n"
     ]
    }
   ],
   "source": [
    "marks = int(input(\"enter marks : \"))\n",
    "if marks >= 80:\n",
    "    print(\"you will be a aprt of ao batch\")\n",
    "elif marks >= 60 and marks < 80:\n",
    "    print(\"you will be part of a1 batch\")\n",
    "elif marks >=40 and marks < 60:\n",
    "    print(\"you will be a part of a2 batch\")\n",
    "else :\n",
    "    print(\"you will be a part of A3 batch\")\n",
    "          \n",
    "    "
   ]
  },
  {
   "cell_type": "code",
   "execution_count": 31,
   "id": "4fd6e884-4424-44e9-b26a-d255d6ae506d",
   "metadata": {},
   "outputs": [],
   "source": [
    "l = [1,2,3,4,56,6,78,6,43,5,89,98]"
   ]
  },
  {
   "cell_type": "code",
   "execution_count": 38,
   "id": "55d1ccfd-d2ee-4f83-a8e8-1a610daae6de",
   "metadata": {},
   "outputs": [
    {
     "name": "stdout",
     "output_type": "stream",
     "text": [
      "2\n",
      "3\n",
      "4\n",
      "5\n",
      "57\n",
      "7\n",
      "79\n",
      "7\n",
      "44\n",
      "6\n",
      "90\n",
      "99\n"
     ]
    },
    {
     "data": {
      "text/plain": [
       "[2, 3, 4, 5, 57, 7, 79, 7, 44, 6, 90, 99]"
      ]
     },
     "execution_count": 38,
     "metadata": {},
     "output_type": "execute_result"
    }
   ],
   "source": [
    "l1 = []\n",
    "for i in l:\n",
    "    print(i+1)\n",
    "    l1.append(i+1)\n",
    "l1\n",
    "    "
   ]
  },
  {
   "cell_type": "code",
   "execution_count": 42,
   "id": "9d63cad6-b784-4cfe-a240-7b1e4f35266a",
   "metadata": {},
   "outputs": [],
   "source": [
    "l1 = [\"peins\",\"Piuchdsx\",\"yrt\"]\n"
   ]
  },
  {
   "cell_type": "code",
   "execution_count": 43,
   "id": "ca7aebfb-bea9-4b70-92a4-646ef759a4f5",
   "metadata": {},
   "outputs": [
    {
     "name": "stdout",
     "output_type": "stream",
     "text": [
      "peins\n",
      "Piuchdsx\n",
      "yrt\n"
     ]
    }
   ],
   "source": [
    "for i in l1:\n",
    "    print(i)"
   ]
  },
  {
   "cell_type": "markdown",
   "id": "3aac2f2b-b59e-4ebf-9e32-b01fc003ce9a",
   "metadata": {},
   "source": [
    "l2 = []\n",
    "for i in l"
   ]
  }
 ],
 "metadata": {
  "kernelspec": {
   "display_name": "Python 3 (ipykernel)",
   "language": "python",
   "name": "python3"
  },
  "language_info": {
   "codemirror_mode": {
    "name": "ipython",
    "version": 3
   },
   "file_extension": ".py",
   "mimetype": "text/x-python",
   "name": "python",
   "nbconvert_exporter": "python",
   "pygments_lexer": "ipython3",
   "version": "3.10.8"
  }
 },
 "nbformat": 4,
 "nbformat_minor": 5
}
