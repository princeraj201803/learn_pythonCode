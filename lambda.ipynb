{
 "cells": [
  {
   "cell_type": "code",
   "execution_count": 1,
   "id": "f46d48cb-1f65-4375-b346-673ad4b202a9",
   "metadata": {},
   "outputs": [],
   "source": [
    "#lambda Function"
   ]
  },
  {
   "cell_type": "code",
   "execution_count": 2,
   "id": "733624b9-66fd-483d-8381-5f2932c16f18",
   "metadata": {},
   "outputs": [],
   "source": [
    "n = 3\n",
    "p = 2\n"
   ]
  },
  {
   "cell_type": "code",
   "execution_count": 3,
   "id": "485a28e7-90dc-4da5-a99a-92e34ec5d6af",
   "metadata": {},
   "outputs": [],
   "source": [
    "def test(n,p):\n",
    "    return n**p"
   ]
  },
  {
   "cell_type": "code",
   "execution_count": 7,
   "id": "c856f2fe-3b33-4fb1-97b2-2d28c53f0a39",
   "metadata": {},
   "outputs": [
    {
     "data": {
      "text/plain": [
       "9"
      ]
     },
     "execution_count": 7,
     "metadata": {},
     "output_type": "execute_result"
    }
   ],
   "source": [
    "test(3,2)"
   ]
  },
  {
   "cell_type": "code",
   "execution_count": 10,
   "id": "1ca760fb-224a-4237-8687-6c54b2a9815b",
   "metadata": {},
   "outputs": [],
   "source": [
    "a = lambda n,p:n**p"
   ]
  },
  {
   "cell_type": "code",
   "execution_count": 11,
   "id": "d94d7cff-be27-46c9-9dd7-1b4001aeb658",
   "metadata": {},
   "outputs": [
    {
     "data": {
      "text/plain": [
       "9"
      ]
     },
     "execution_count": 11,
     "metadata": {},
     "output_type": "execute_result"
    }
   ],
   "source": [
    "a(3,2)"
   ]
  },
  {
   "cell_type": "code",
   "execution_count": 12,
   "id": "d0e6e638-ba15-4cfa-a99b-d858bd92ed99",
   "metadata": {},
   "outputs": [],
   "source": [
    "add = lambda x,y:x+y"
   ]
  },
  {
   "cell_type": "code",
   "execution_count": 13,
   "id": "88b5cc4f-9c88-44f3-b182-0696e29421f3",
   "metadata": {},
   "outputs": [
    {
     "data": {
      "text/plain": [
       "7"
      ]
     },
     "execution_count": 13,
     "metadata": {},
     "output_type": "execute_result"
    }
   ],
   "source": [
    "add(3,4)"
   ]
  },
  {
   "cell_type": "code",
   "execution_count": 14,
   "id": "a07beef1-f246-41f0-8a08-b7c8f06cceec",
   "metadata": {},
   "outputs": [],
   "source": [
    "sub = lambda x,y:x-y"
   ]
  },
  {
   "cell_type": "code",
   "execution_count": 15,
   "id": "45204a97-29db-40f2-a9f1-10ddcfe29cdc",
   "metadata": {},
   "outputs": [
    {
     "data": {
      "text/plain": [
       "2"
      ]
     },
     "execution_count": 15,
     "metadata": {},
     "output_type": "execute_result"
    }
   ],
   "source": [
    "sub(5,3)"
   ]
  },
  {
   "cell_type": "code",
   "execution_count": 16,
   "id": "c7796d2d-7655-4dd8-956a-479b8dc892d5",
   "metadata": {},
   "outputs": [],
   "source": [
    "add = lambda a,b:a+b"
   ]
  },
  {
   "cell_type": "code",
   "execution_count": 17,
   "id": "42190057-a078-47c1-a867-08b28a3ee644",
   "metadata": {},
   "outputs": [
    {
     "data": {
      "text/plain": [
       "178"
      ]
     },
     "execution_count": 17,
     "metadata": {},
     "output_type": "execute_result"
    }
   ],
   "source": [
    "add(88,90)"
   ]
  },
  {
   "cell_type": "code",
   "execution_count": 18,
   "id": "2d53e546-cf2b-46f5-84f6-373b26247b17",
   "metadata": {},
   "outputs": [],
   "source": [
    "sub = lambda x,y:x-y"
   ]
  },
  {
   "cell_type": "code",
   "execution_count": 19,
   "id": "8e32cb98-f680-4042-9174-679b0336231e",
   "metadata": {},
   "outputs": [
    {
     "data": {
      "text/plain": [
       "-10"
      ]
     },
     "execution_count": 19,
     "metadata": {},
     "output_type": "execute_result"
    }
   ],
   "source": [
    "sub(80,90)"
   ]
  },
  {
   "cell_type": "code",
   "execution_count": 20,
   "id": "00a321f4-8304-433c-9a46-622c6943b7ca",
   "metadata": {},
   "outputs": [],
   "source": [
    "max = lambda x,y: x if x>y else y"
   ]
  },
  {
   "cell_type": "code",
   "execution_count": 21,
   "id": "b9e8b014-6138-420d-b0a8-376d319367c8",
   "metadata": {},
   "outputs": [
    {
     "data": {
      "text/plain": [
       "98"
      ]
     },
     "execution_count": 21,
     "metadata": {},
     "output_type": "execute_result"
    }
   ],
   "source": [
    "max(98,90)"
   ]
  },
  {
   "cell_type": "code",
   "execution_count": 22,
   "id": "1e9c7913-851d-46a4-988b-ba645e57d52d",
   "metadata": {},
   "outputs": [
    {
     "data": {
      "text/plain": [
       "9"
      ]
     },
     "execution_count": 22,
     "metadata": {},
     "output_type": "execute_result"
    }
   ],
   "source": [
    "max(6,9)"
   ]
  },
  {
   "cell_type": "code",
   "execution_count": 23,
   "id": "e8a64489-f988-4d1f-a178-f0fce4930561",
   "metadata": {},
   "outputs": [],
   "source": [
    "a = \"prince\""
   ]
  },
  {
   "cell_type": "code",
   "execution_count": 24,
   "id": "6fe7e7df-fe79-47f5-bb72-66829ce6fdc9",
   "metadata": {},
   "outputs": [
    {
     "data": {
      "text/plain": [
       "6"
      ]
     },
     "execution_count": 24,
     "metadata": {},
     "output_type": "execute_result"
    }
   ],
   "source": [
    "len(a)"
   ]
  },
  {
   "cell_type": "code",
   "execution_count": 25,
   "id": "abbabf44-eaf3-454a-8725-e2aa65285547",
   "metadata": {},
   "outputs": [],
   "source": [
    "find_len = lambda a :len(a)"
   ]
  },
  {
   "cell_type": "code",
   "execution_count": 26,
   "id": "d3c1a43f-e3c9-4234-a4e2-92c605a032ae",
   "metadata": {},
   "outputs": [
    {
     "data": {
      "text/plain": [
       "6"
      ]
     },
     "execution_count": 26,
     "metadata": {},
     "output_type": "execute_result"
    }
   ],
   "source": [
    "find_len(a)"
   ]
  },
  {
   "cell_type": "code",
   "execution_count": 28,
   "id": "ff6374d0-7f04-45eb-8b20-e3c1845a3937",
   "metadata": {},
   "outputs": [],
   "source": [
    "#Map,Reduced Filter Function"
   ]
  },
  {
   "cell_type": "code",
   "execution_count": 29,
   "id": "d09579d0-f86c-4709-b956-584be1dff33f",
   "metadata": {},
   "outputs": [],
   "source": [
    "l =[2,3,4,5,6]"
   ]
  },
  {
   "cell_type": "code",
   "execution_count": 32,
   "id": "ce52c6f6-eb66-4cec-a7f5-45177e31df6e",
   "metadata": {},
   "outputs": [
    {
     "name": "stdout",
     "output_type": "stream",
     "text": [
      "[4, 9, 16, 25, 36]\n"
     ]
    }
   ],
   "source": [
    "l1 = []\n",
    "for i in l:\n",
    "    l1.append(i**2)\n",
    "print(l1)\n"
   ]
  },
  {
   "cell_type": "code",
   "execution_count": 33,
   "id": "36ecd53a-0d5e-4709-8f44-5e156d3c5178",
   "metadata": {},
   "outputs": [],
   "source": [
    "def sq(x):\n",
    "    return x**2"
   ]
  },
  {
   "cell_type": "code",
   "execution_count": 34,
   "id": "df585d40-0ecd-4f74-8f40-da59d4f61321",
   "metadata": {},
   "outputs": [
    {
     "data": {
      "text/plain": [
       "9"
      ]
     },
     "execution_count": 34,
     "metadata": {},
     "output_type": "execute_result"
    }
   ],
   "source": [
    "sq(3)"
   ]
  },
  {
   "cell_type": "code",
   "execution_count": 36,
   "id": "2af3fdac-ac47-4026-a1bc-3e9dacb0aaf7",
   "metadata": {},
   "outputs": [
    {
     "data": {
      "text/plain": [
       "[4, 9, 16, 25, 36]"
      ]
     },
     "execution_count": 36,
     "metadata": {},
     "output_type": "execute_result"
    }
   ],
   "source": [
    "list(map(sq,l))"
   ]
  },
  {
   "cell_type": "code",
   "execution_count": 37,
   "id": "a79287fc-5096-4e50-a831-6bf6eab9c3ca",
   "metadata": {},
   "outputs": [
    {
     "data": {
      "text/plain": [
       "[4, 9, 16, 25, 36]"
      ]
     },
     "execution_count": 37,
     "metadata": {},
     "output_type": "execute_result"
    }
   ],
   "source": [
    "list(map(lambda x:x**2 , l))"
   ]
  },
  {
   "cell_type": "code",
   "execution_count": 58,
   "id": "81f23ae2-0c95-4f37-8cf8-2a8f8f444266",
   "metadata": {},
   "outputs": [],
   "source": [
    "l1 = [1,2,3,4,5]\n",
    "l2 = [6,7,8,9,10]\n",
    "   \n",
    "    "
   ]
  },
  {
   "cell_type": "code",
   "execution_count": 47,
   "id": "2f869cdd-e270-43ea-827b-c7c1d03afe0a",
   "metadata": {},
   "outputs": [],
   "source": [
    "def fun(x,y):\n",
    "    l3 = []\n",
    "    for i in l1 and j in l2:\n",
    "        l3.append(i+j)\n",
    "    return l3    \n",
    "    "
   ]
  },
  {
   "cell_type": "code",
   "execution_count": 59,
   "id": "64db1ce2-c76b-4361-b6a6-fac3c353ab04",
   "metadata": {},
   "outputs": [
    {
     "data": {
      "text/plain": [
       "[7, 9, 11, 13, 15]"
      ]
     },
     "execution_count": 59,
     "metadata": {},
     "output_type": "execute_result"
    }
   ],
   "source": [
    "list(map(lambda x,y:x+y , l1,l2))"
   ]
  },
  {
   "cell_type": "code",
   "execution_count": 60,
   "id": "ebbe8bd4-d688-411c-a706-ce9f57d6e779",
   "metadata": {},
   "outputs": [],
   "source": [
    "#Reduced"
   ]
  },
  {
   "cell_type": "code",
   "execution_count": 61,
   "id": "adb7ee24-730b-46e5-bda1-387586762497",
   "metadata": {},
   "outputs": [],
   "source": [
    "from functools import reduce"
   ]
  },
  {
   "cell_type": "code",
   "execution_count": 63,
   "id": "4b2c106a-e30f-4dc0-9e1d-bf7cc6a1484d",
   "metadata": {},
   "outputs": [],
   "source": [
    "l = [1,2,3,4,5]"
   ]
  },
  {
   "cell_type": "code",
   "execution_count": 67,
   "id": "0310865e-6c55-4675-be86-64e57efcaf40",
   "metadata": {},
   "outputs": [
    {
     "data": {
      "text/plain": [
       "15"
      ]
     },
     "execution_count": 67,
     "metadata": {},
     "output_type": "execute_result"
    }
   ],
   "source": [
    "reduce(lambda x,y:x+y,l)\n",
    "    "
   ]
  },
  {
   "cell_type": "code",
   "execution_count": 69,
   "id": "6e7f058d-6e7c-4f40-b1ab-b9a6bd1de46a",
   "metadata": {},
   "outputs": [],
   "source": [
    "def fun1(x,y):\n",
    "    for i in l:\n",
    "        print(x+y)"
   ]
  },
  {
   "cell_type": "code",
   "execution_count": 72,
   "id": "6348d52e-db3c-4452-a65b-fc675ae7bc5a",
   "metadata": {},
   "outputs": [],
   "source": [
    "l2 = [1,2,3,4,5,6,7]\n"
   ]
  },
  {
   "cell_type": "code",
   "execution_count": 75,
   "id": "00f24e6a-3242-43ba-bd99-5eada95c9fbc",
   "metadata": {},
   "outputs": [
    {
     "data": {
      "text/plain": [
       "28"
      ]
     },
     "execution_count": 75,
     "metadata": {},
     "output_type": "execute_result"
    }
   ],
   "source": [
    "reduce(lambda x,y: x+y, l2)"
   ]
  },
  {
   "cell_type": "code",
   "execution_count": 76,
   "id": "028cd1ef-4b77-4075-b487-ef806f457666",
   "metadata": {},
   "outputs": [
    {
     "data": {
      "text/plain": [
       "120"
      ]
     },
     "execution_count": 76,
     "metadata": {},
     "output_type": "execute_result"
    }
   ],
   "source": [
    "reduce(lambda x,y :x*y,l)"
   ]
  },
  {
   "cell_type": "code",
   "execution_count": 77,
   "id": "ef9aae88-4ecf-40f9-a152-d476c4666936",
   "metadata": {},
   "outputs": [
    {
     "data": {
      "text/plain": [
       "[1, 2, 3, 4, 5]"
      ]
     },
     "execution_count": 77,
     "metadata": {},
     "output_type": "execute_result"
    }
   ],
   "source": [
    "l"
   ]
  },
  {
   "cell_type": "code",
   "execution_count": 78,
   "id": "d14ce087-c0e8-46e4-8d07-178b966d796a",
   "metadata": {},
   "outputs": [
    {
     "data": {
      "text/plain": [
       "5"
      ]
     },
     "execution_count": 78,
     "metadata": {},
     "output_type": "execute_result"
    }
   ],
   "source": [
    "reduce(lambda x,y: x if x>y else y,l)"
   ]
  },
  {
   "cell_type": "code",
   "execution_count": 79,
   "id": "f01d9f11-b46a-4d4a-a5fd-97fbb0c94c72",
   "metadata": {},
   "outputs": [],
   "source": [
    "# Filter"
   ]
  },
  {
   "cell_type": "code",
   "execution_count": 80,
   "id": "685c9edc-f45c-416b-8014-98fa757d873c",
   "metadata": {},
   "outputs": [
    {
     "data": {
      "text/plain": [
       "[1, 2, 3, 4, 5]"
      ]
     },
     "execution_count": 80,
     "metadata": {},
     "output_type": "execute_result"
    }
   ],
   "source": [
    "l"
   ]
  },
  {
   "cell_type": "code",
   "execution_count": 83,
   "id": "4ab2ffe3-2c25-467e-8611-f82bffbf9f78",
   "metadata": {},
   "outputs": [
    {
     "data": {
      "text/plain": [
       "[1, 3, 5]"
      ]
     },
     "execution_count": 83,
     "metadata": {},
     "output_type": "execute_result"
    }
   ],
   "source": [
    "list(filter(lambda x : x%2 != 0,l))"
   ]
  },
  {
   "cell_type": "code",
   "execution_count": 84,
   "id": "50f27f26-488a-4281-9ef0-88f80a1caecf",
   "metadata": {},
   "outputs": [],
   "source": [
    "l1 = [-1,-2,3,456,-2]"
   ]
  },
  {
   "cell_type": "code",
   "execution_count": 85,
   "id": "b1f3d9b8-478a-479b-aaed-4e3ddea3acdb",
   "metadata": {},
   "outputs": [
    {
     "data": {
      "text/plain": [
       "[-1, -2, -2]"
      ]
     },
     "execution_count": 85,
     "metadata": {},
     "output_type": "execute_result"
    }
   ],
   "source": [
    "list(filter(lambda x : x<0,l1)) "
   ]
  },
  {
   "cell_type": "code",
   "execution_count": 86,
   "id": "a852a908-67a5-4656-b60b-80a579eca3d7",
   "metadata": {},
   "outputs": [],
   "source": [
    "l1 = [\"sudh\",\"pwskills\",\"prince\",\"raj\"]"
   ]
  },
  {
   "cell_type": "code",
   "execution_count": 88,
   "id": "271687a9-877f-49c6-9678-a0157859b703",
   "metadata": {},
   "outputs": [
    {
     "data": {
      "text/plain": [
       "['sudh', 'raj']"
      ]
     },
     "execution_count": 88,
     "metadata": {},
     "output_type": "execute_result"
    }
   ],
   "source": [
    "list(filter(lambda x:len(x)<6,l1))"
   ]
  },
  {
   "cell_type": "code",
   "execution_count": null,
   "id": "60f24246-2b1f-4352-8b5c-8acee8baac90",
   "metadata": {},
   "outputs": [],
   "source": []
  }
 ],
 "metadata": {
  "kernelspec": {
   "display_name": "Python 3 (ipykernel)",
   "language": "python",
   "name": "python3"
  },
  "language_info": {
   "codemirror_mode": {
    "name": "ipython",
    "version": 3
   },
   "file_extension": ".py",
   "mimetype": "text/x-python",
   "name": "python",
   "nbconvert_exporter": "python",
   "pygments_lexer": "ipython3",
   "version": "3.10.8"
  }
 },
 "nbformat": 4,
 "nbformat_minor": 5
}
