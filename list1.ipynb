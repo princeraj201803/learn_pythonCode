{
 "cells": [
  {
   "cell_type": "code",
   "execution_count": 1,
   "id": "5ebc9a06-9d23-428f-8127-4514cbbeb174",
   "metadata": {},
   "outputs": [],
   "source": [
    "s1 = \"This is my pen\"\n"
   ]
  },
  {
   "cell_type": "code",
   "execution_count": 2,
   "id": "3f9551b7-2ab4-4234-a6e9-9231e3c03a49",
   "metadata": {},
   "outputs": [
    {
     "data": {
      "text/plain": [
       "'This is my pen'"
      ]
     },
     "execution_count": 2,
     "metadata": {},
     "output_type": "execute_result"
    }
   ],
   "source": [
    "s1"
   ]
  },
  {
   "cell_type": "code",
   "execution_count": 3,
   "id": "fdebf3f5-074c-4165-b92d-7f9cd5aed48c",
   "metadata": {},
   "outputs": [
    {
     "data": {
      "text/plain": [
       "1"
      ]
     },
     "execution_count": 3,
     "metadata": {},
     "output_type": "execute_result"
    }
   ],
   "source": [
    "s1.count('p')"
   ]
  },
  {
   "cell_type": "code",
   "execution_count": 4,
   "id": "3df592e9-27f4-4000-b59b-fc0691eea3b5",
   "metadata": {},
   "outputs": [
    {
     "data": {
      "text/plain": [
       "8"
      ]
     },
     "execution_count": 4,
     "metadata": {},
     "output_type": "execute_result"
    }
   ],
   "source": [
    "s1.find('m')"
   ]
  },
  {
   "cell_type": "code",
   "execution_count": 5,
   "id": "cd3e0d02-b258-477c-b6aa-cef9a4aac814",
   "metadata": {},
   "outputs": [
    {
     "data": {
      "text/plain": [
       "'THIS IS MY PEN'"
      ]
     },
     "execution_count": 5,
     "metadata": {},
     "output_type": "execute_result"
    }
   ],
   "source": [
    "s1.upper()"
   ]
  },
  {
   "cell_type": "code",
   "execution_count": 6,
   "id": "6d4bdaf5-2d13-4470-9a0f-3f8d4ac2b666",
   "metadata": {},
   "outputs": [
    {
     "data": {
      "text/plain": [
       "'this is my pen'"
      ]
     },
     "execution_count": 6,
     "metadata": {},
     "output_type": "execute_result"
    }
   ],
   "source": [
    "s1.lower()"
   ]
  },
  {
   "cell_type": "code",
   "execution_count": 7,
   "id": "9111a98a-0823-49d5-93d2-03d3c710c187",
   "metadata": {},
   "outputs": [
    {
     "data": {
      "text/plain": [
       "'THIS IS MY PEN'"
      ]
     },
     "execution_count": 7,
     "metadata": {},
     "output_type": "execute_result"
    }
   ],
   "source": [
    "s1.upper()"
   ]
  },
  {
   "cell_type": "code",
   "execution_count": 8,
   "id": "ff8cc813-feec-4c3f-bf90-ba3da4d06f34",
   "metadata": {},
   "outputs": [
    {
     "data": {
      "text/plain": [
       "'This is my pen'"
      ]
     },
     "execution_count": 8,
     "metadata": {},
     "output_type": "execute_result"
    }
   ],
   "source": [
    "s1"
   ]
  },
  {
   "cell_type": "code",
   "execution_count": 9,
   "id": "e19a4008-928f-4506-82e3-35180b0f3a3a",
   "metadata": {},
   "outputs": [
    {
     "data": {
      "text/plain": [
       "'This Is My Pen'"
      ]
     },
     "execution_count": 9,
     "metadata": {},
     "output_type": "execute_result"
    }
   ],
   "source": [
    "s1.title()"
   ]
  },
  {
   "cell_type": "code",
   "execution_count": 11,
   "id": "57b76f41-a1ca-4ce1-a091-d388f158fc55",
   "metadata": {},
   "outputs": [
    {
     "data": {
      "text/plain": [
       "'This is my pen'"
      ]
     },
     "execution_count": 11,
     "metadata": {},
     "output_type": "execute_result"
    }
   ],
   "source": [
    "s1"
   ]
  },
  {
   "cell_type": "code",
   "execution_count": 15,
   "id": "38db1f1a-f90a-46e0-954d-90ae9ac04af1",
   "metadata": {},
   "outputs": [
    {
     "data": {
      "text/plain": [
       "'This is my penThis is my penThis is my pen'"
      ]
     },
     "execution_count": 15,
     "metadata": {},
     "output_type": "execute_result"
    }
   ],
   "source": [
    "s1*3"
   ]
  },
  {
   "cell_type": "code",
   "execution_count": 17,
   "id": "c22bbc46-1b96-4cdd-8f20-2bed25c7fbd6",
   "metadata": {},
   "outputs": [
    {
     "data": {
      "text/plain": [
       "\"My name is prince ra'j\""
      ]
     },
     "execution_count": 17,
     "metadata": {},
     "output_type": "execute_result"
    }
   ],
   "source": [
    "\"My name is prince ra'j\""
   ]
  },
  {
   "cell_type": "code",
   "execution_count": 18,
   "id": "7f555b26-2b98-406e-8f7e-dd1260e9e253",
   "metadata": {},
   "outputs": [
    {
     "data": {
      "text/plain": [
       "'my name is Prince Raj'"
      ]
     },
     "execution_count": 18,
     "metadata": {},
     "output_type": "execute_result"
    }
   ],
   "source": [
    "# my name is Prince  Raj \n",
    "\"my name is Prince Raj\""
   ]
  },
  {
   "cell_type": "code",
   "execution_count": 20,
   "id": "f91acd2b-08e0-4169-89d6-b42deafb2c38",
   "metadata": {},
   "outputs": [],
   "source": [
    "#list\n"
   ]
  },
  {
   "cell_type": "code",
   "execution_count": 21,
   "id": "06c56bad-b8a1-4eab-9bb9-4d776bc89157",
   "metadata": {},
   "outputs": [],
   "source": [
    "l = [2,4,35,32,\"sudh\",True,3.71]"
   ]
  },
  {
   "cell_type": "code",
   "execution_count": 26,
   "id": "10428958-9712-4ffe-8013-af7703942526",
   "metadata": {},
   "outputs": [
    {
     "data": {
      "text/plain": [
       "list"
      ]
     },
     "execution_count": 26,
     "metadata": {},
     "output_type": "execute_result"
    }
   ],
   "source": [
    "type(l)"
   ]
  },
  {
   "cell_type": "code",
   "execution_count": 28,
   "id": "77b38e83-0261-4241-b924-6af709301c0c",
   "metadata": {},
   "outputs": [
    {
     "data": {
      "text/plain": [
       "2"
      ]
     },
     "execution_count": 28,
     "metadata": {},
     "output_type": "execute_result"
    }
   ],
   "source": [
    "l[0]"
   ]
  },
  {
   "cell_type": "code",
   "execution_count": 30,
   "id": "b65bb13b-0d51-40ba-b67f-253d42b96b29",
   "metadata": {},
   "outputs": [
    {
     "data": {
      "text/plain": [
       "[2, 4, 35]"
      ]
     },
     "execution_count": 30,
     "metadata": {},
     "output_type": "execute_result"
    }
   ],
   "source": [
    "l[0:3]"
   ]
  },
  {
   "cell_type": "code",
   "execution_count": 31,
   "id": "0947f7b0-a6e5-4414-9477-59e22e913077",
   "metadata": {},
   "outputs": [
    {
     "data": {
      "text/plain": [
       "[3.71, True, 'sudh', 32, 35, 4, 2]"
      ]
     },
     "execution_count": 31,
     "metadata": {},
     "output_type": "execute_result"
    }
   ],
   "source": [
    "l[::-1]"
   ]
  },
  {
   "cell_type": "code",
   "execution_count": 32,
   "id": "d7ee65b8-cdb7-4815-9887-166015d38827",
   "metadata": {},
   "outputs": [
    {
     "data": {
      "text/plain": [
       "[2, 35, 'sudh', 3.71]"
      ]
     },
     "execution_count": 32,
     "metadata": {},
     "output_type": "execute_result"
    }
   ],
   "source": [
    "l[0:7:2]"
   ]
  },
  {
   "cell_type": "code",
   "execution_count": 33,
   "id": "c150a290-bc01-4ab1-97c1-63e511db06f1",
   "metadata": {},
   "outputs": [
    {
     "data": {
      "text/plain": [
       "[3.71, 'sudh', 35, 2]"
      ]
     },
     "execution_count": 33,
     "metadata": {},
     "output_type": "execute_result"
    }
   ],
   "source": [
    "l[::-2]"
   ]
  },
  {
   "cell_type": "code",
   "execution_count": 34,
   "id": "ca295f5c-b2f2-44d6-b72e-31dbeaa3973c",
   "metadata": {},
   "outputs": [
    {
     "data": {
      "text/plain": [
       "[2, 4, 35, 32, 'sudh', True, 3.71]"
      ]
     },
     "execution_count": 34,
     "metadata": {},
     "output_type": "execute_result"
    }
   ],
   "source": [
    "l"
   ]
  },
  {
   "cell_type": "code",
   "execution_count": 35,
   "id": "4a4cbc9a-711d-4607-ad4b-e33a3b780c33",
   "metadata": {},
   "outputs": [],
   "source": [
    "s= \"prince\"\n"
   ]
  },
  {
   "cell_type": "code",
   "execution_count": 36,
   "id": "050cc319-3696-4d30-910a-3529f7aa24de",
   "metadata": {},
   "outputs": [],
   "source": [
    "l.append(s)"
   ]
  },
  {
   "cell_type": "code",
   "execution_count": 37,
   "id": "23ba7594-9d28-48c2-b771-5916bbf36b70",
   "metadata": {},
   "outputs": [
    {
     "data": {
      "text/plain": [
       "[2, 4, 35, 32, 'sudh', True, 3.71, 'prince']"
      ]
     },
     "execution_count": 37,
     "metadata": {},
     "output_type": "execute_result"
    }
   ],
   "source": [
    "l"
   ]
  },
  {
   "cell_type": "code",
   "execution_count": 38,
   "id": "cf00e1f2-ba63-4443-8c19-654ec5a85d47",
   "metadata": {},
   "outputs": [],
   "source": [
    "l.extend(s)"
   ]
  },
  {
   "cell_type": "code",
   "execution_count": 39,
   "id": "a87eb689-92d1-470f-bf42-3b9d90a5d750",
   "metadata": {},
   "outputs": [
    {
     "data": {
      "text/plain": [
       "[2, 4, 35, 32, 'sudh', True, 3.71, 'prince', 'p', 'r', 'i', 'n', 'c', 'e']"
      ]
     },
     "execution_count": 39,
     "metadata": {},
     "output_type": "execute_result"
    }
   ],
   "source": [
    "l"
   ]
  },
  {
   "cell_type": "code",
   "execution_count": 41,
   "id": "966f88fb-2d81-4a28-a4cd-cce057273c5d",
   "metadata": {},
   "outputs": [
    {
     "data": {
      "text/plain": [
       "'sudh'"
      ]
     },
     "execution_count": 41,
     "metadata": {},
     "output_type": "execute_result"
    }
   ],
   "source": [
    "l[4]"
   ]
  },
  {
   "cell_type": "code",
   "execution_count": 46,
   "id": "3d4001d7-1bc1-496c-a47d-94f914babcfb",
   "metadata": {},
   "outputs": [
    {
     "data": {
      "text/plain": [
       "'su'"
      ]
     },
     "execution_count": 46,
     "metadata": {},
     "output_type": "execute_result"
    }
   ],
   "source": [
    "l[4][0:2]"
   ]
  },
  {
   "cell_type": "code",
   "execution_count": 47,
   "id": "47a067b2-1f5c-4270-9521-0c3f8e9e23e0",
   "metadata": {},
   "outputs": [
    {
     "data": {
      "text/plain": [
       "'su'"
      ]
     },
     "execution_count": 47,
     "metadata": {},
     "output_type": "execute_result"
    }
   ],
   "source": [
    "l[4][0:2]"
   ]
  },
  {
   "cell_type": "code",
   "execution_count": 48,
   "id": "53de094e-af95-46a2-864c-de1695557e6e",
   "metadata": {},
   "outputs": [],
   "source": [
    "l1 = [2,3,543]"
   ]
  },
  {
   "cell_type": "code",
   "execution_count": 49,
   "id": "3c3a0b84-8dfb-4763-8ec5-3ed368331ac6",
   "metadata": {},
   "outputs": [
    {
     "data": {
      "text/plain": [
       "[2,\n",
       " 4,\n",
       " 35,\n",
       " 32,\n",
       " 'sudh',\n",
       " True,\n",
       " 3.71,\n",
       " 'prince',\n",
       " 'p',\n",
       " 'r',\n",
       " 'i',\n",
       " 'n',\n",
       " 'c',\n",
       " 'e',\n",
       " 2,\n",
       " 3,\n",
       " 543]"
      ]
     },
     "execution_count": 49,
     "metadata": {},
     "output_type": "execute_result"
    }
   ],
   "source": [
    "l+l1"
   ]
  },
  {
   "cell_type": "code",
   "execution_count": 50,
   "id": "0e606e66-add5-40fd-8f5b-d22f86837977",
   "metadata": {},
   "outputs": [
    {
     "data": {
      "text/plain": [
       "3"
      ]
     },
     "execution_count": 50,
     "metadata": {},
     "output_type": "execute_result"
    }
   ],
   "source": [
    "len(l1)"
   ]
  },
  {
   "cell_type": "code",
   "execution_count": 51,
   "id": "a1380688-73d3-4dd7-bf37-e62098113475",
   "metadata": {},
   "outputs": [
    {
     "data": {
      "text/plain": [
       "14"
      ]
     },
     "execution_count": 51,
     "metadata": {},
     "output_type": "execute_result"
    }
   ],
   "source": [
    "len(l)"
   ]
  },
  {
   "cell_type": "code",
   "execution_count": 52,
   "id": "57e70403-2db9-4369-9a6c-5d8fefa7b104",
   "metadata": {},
   "outputs": [],
   "source": [
    "l1.append(\"prnce\")"
   ]
  },
  {
   "cell_type": "code",
   "execution_count": 53,
   "id": "5f74a72c-82e5-4254-b27d-91134c4f15b0",
   "metadata": {},
   "outputs": [
    {
     "data": {
      "text/plain": [
       "[2, 3, 543, 'prnce']"
      ]
     },
     "execution_count": 53,
     "metadata": {},
     "output_type": "execute_result"
    }
   ],
   "source": [
    "l1"
   ]
  },
  {
   "cell_type": "code",
   "execution_count": 57,
   "id": "e0e533ba-6c80-4f66-892f-6d21f8198252",
   "metadata": {},
   "outputs": [],
   "source": [
    "l1.insert(1,\"rajkumar\")"
   ]
  },
  {
   "cell_type": "code",
   "execution_count": 58,
   "id": "d8674eb8-e966-4b26-a5a3-2eba496dce68",
   "metadata": {},
   "outputs": [
    {
     "data": {
      "text/plain": [
       "[2, 'rajkumar', 3, 543, 'prnce']"
      ]
     },
     "execution_count": 58,
     "metadata": {},
     "output_type": "execute_result"
    }
   ],
   "source": [
    "l1"
   ]
  },
  {
   "cell_type": "code",
   "execution_count": 59,
   "id": "35be28b0-7636-45fb-8948-31dbc137a414",
   "metadata": {},
   "outputs": [
    {
     "data": {
      "text/plain": [
       "'prnce'"
      ]
     },
     "execution_count": 59,
     "metadata": {},
     "output_type": "execute_result"
    }
   ],
   "source": [
    "l1.pop()"
   ]
  },
  {
   "cell_type": "code",
   "execution_count": 60,
   "id": "a1476d29-9d26-4c0e-a7b2-a5dc934a85fe",
   "metadata": {},
   "outputs": [
    {
     "data": {
      "text/plain": [
       "[2, 'rajkumar', 3, 543]"
      ]
     },
     "execution_count": 60,
     "metadata": {},
     "output_type": "execute_result"
    }
   ],
   "source": [
    "l1"
   ]
  },
  {
   "cell_type": "code",
   "execution_count": 61,
   "id": "13bf1cdb-8c4e-4c83-b532-b165f9e6cc93",
   "metadata": {},
   "outputs": [
    {
     "data": {
      "text/plain": [
       "3"
      ]
     },
     "execution_count": 61,
     "metadata": {},
     "output_type": "execute_result"
    }
   ],
   "source": [
    "l1.pop(2)"
   ]
  },
  {
   "cell_type": "code",
   "execution_count": 62,
   "id": "4eee2898-dd51-435d-a300-c2031a8a01e0",
   "metadata": {},
   "outputs": [
    {
     "data": {
      "text/plain": [
       "[2, 'rajkumar', 543]"
      ]
     },
     "execution_count": 62,
     "metadata": {},
     "output_type": "execute_result"
    }
   ],
   "source": [
    "l1"
   ]
  },
  {
   "cell_type": "code",
   "execution_count": 2,
   "id": "ac949fde-b7cd-4bdb-952f-d89d5d8e1740",
   "metadata": {},
   "outputs": [
    {
     "ename": "NameError",
     "evalue": "name 'l1' is not defined",
     "output_type": "error",
     "traceback": [
      "\u001b[0;31m---------------------------------------------------------------------------\u001b[0m",
      "\u001b[0;31mNameError\u001b[0m                                 Traceback (most recent call last)",
      "Cell \u001b[0;32mIn[2], line 1\u001b[0m\n\u001b[0;32m----> 1\u001b[0m \u001b[43ml1\u001b[49m\n",
      "\u001b[0;31mNameError\u001b[0m: name 'l1' is not defined"
     ]
    }
   ],
   "source": [
    "l1"
   ]
  },
  {
   "cell_type": "code",
   "execution_count": null,
   "id": "d3f76fcd-ff83-4082-af65-025a160b2a5f",
   "metadata": {},
   "outputs": [],
   "source": []
  }
 ],
 "metadata": {
  "kernelspec": {
   "display_name": "Python 3 (ipykernel)",
   "language": "python",
   "name": "python3"
  },
  "language_info": {
   "codemirror_mode": {
    "name": "ipython",
    "version": 3
   },
   "file_extension": ".py",
   "mimetype": "text/x-python",
   "name": "python",
   "nbconvert_exporter": "python",
   "pygments_lexer": "ipython3",
   "version": "3.10.8"
  }
 },
 "nbformat": 4,
 "nbformat_minor": 5
}
