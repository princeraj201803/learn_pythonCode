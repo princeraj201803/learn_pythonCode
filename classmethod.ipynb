{
 "cells": [
  {
   "cell_type": "code",
   "execution_count": 10,
   "id": "34aaddac-d2c4-41e6-a8e0-c085e58feab0",
   "metadata": {},
   "outputs": [],
   "source": [
    "class pwskills:\n",
    "    def __init__(self,name,email):\n",
    "        self.name = name\n",
    "        self.email = email\n",
    "    def student_details(self):\n",
    "        print(self.name,self.email)  "
   ]
  },
  {
   "cell_type": "code",
   "execution_count": 11,
   "id": "4cf27ac8-f4ff-4ebb-8df1-98ba4fd90f7a",
   "metadata": {},
   "outputs": [],
   "source": [
    "pw = pwskills(\"Student\",\"Student@gmail.com\")"
   ]
  },
  {
   "cell_type": "code",
   "execution_count": null,
   "id": "3987bc9d-d2ee-49ab-8cdc-ca68556925d1",
   "metadata": {},
   "outputs": [],
   "source": [
    "pwskills()"
   ]
  },
  {
   "cell_type": "code",
   "execution_count": 13,
   "id": "d64c1602-d822-4c0e-94cd-bddddc72ebce",
   "metadata": {},
   "outputs": [
    {
     "data": {
      "text/plain": [
       "'Student'"
      ]
     },
     "execution_count": 13,
     "metadata": {},
     "output_type": "execute_result"
    }
   ],
   "source": [
    "pw.name"
   ]
  },
  {
   "cell_type": "code",
   "execution_count": 12,
   "id": "3cc9b71b-b86b-4744-b713-5df07df0bbe2",
   "metadata": {},
   "outputs": [
    {
     "data": {
      "text/plain": [
       "'Student@gmail.com'"
      ]
     },
     "execution_count": 12,
     "metadata": {},
     "output_type": "execute_result"
    }
   ],
   "source": [
    "pw.email"
   ]
  },
  {
   "cell_type": "code",
   "execution_count": 14,
   "id": "b4a201e8-abfc-442a-ac7a-4a383d92abdb",
   "metadata": {},
   "outputs": [],
   "source": [
    "class Student:\n",
    "    def __init__(self,name,email,phonenumber):\n",
    "        self.name = name\n",
    "        self.email = email;\n",
    "        self.phonenumber = phonenumber\n",
    "    def details(self):\n",
    "        print(self.name,self.email,self.phonenumber)\n",
    "      \n",
    "    "
   ]
  },
  {
   "cell_type": "code",
   "execution_count": 15,
   "id": "b183e973-1550-4d2c-be20-ba9619762aa2",
   "metadata": {},
   "outputs": [],
   "source": [
    "Stu = Student(\"prince\",\"princeraj201803@gmail.com\",45675486)"
   ]
  },
  {
   "cell_type": "code",
   "execution_count": 16,
   "id": "ea065cee-b823-4264-8423-b9d52efeab23",
   "metadata": {},
   "outputs": [
    {
     "data": {
      "text/plain": [
       "'princeraj201803@gmail.com'"
      ]
     },
     "execution_count": 16,
     "metadata": {},
     "output_type": "execute_result"
    }
   ],
   "source": [
    "Stu.email"
   ]
  },
  {
   "cell_type": "code",
   "execution_count": 17,
   "id": "5ca886fd-7597-4982-a3bd-15733f321eac",
   "metadata": {},
   "outputs": [
    {
     "data": {
      "text/plain": [
       "45675486"
      ]
     },
     "execution_count": 17,
     "metadata": {},
     "output_type": "execute_result"
    }
   ],
   "source": [
    "Stu.phonenumber"
   ]
  },
  {
   "cell_type": "code",
   "execution_count": 18,
   "id": "bb3abb8f-65c4-4db2-8e9c-fa0afa0684b5",
   "metadata": {},
   "outputs": [
    {
     "data": {
      "text/plain": [
       "'prince'"
      ]
     },
     "execution_count": 18,
     "metadata": {},
     "output_type": "execute_result"
    }
   ],
   "source": [
    "Stu.name"
   ]
  },
  {
   "cell_type": "code",
   "execution_count": 21,
   "id": "d66ec0b4-ec3f-4f31-a649-08e9db40148f",
   "metadata": {},
   "outputs": [],
   "source": [
    "class Studen2:\n",
    "    mobile_number\n",
    "    def __init__(self,name,email):\n",
    "        self.name = name\n",
    "        self.email = email\n",
    "    \n",
    "    @classmethod\n",
    "    def details(cls,name,email):\n",
    "        return cls(name,email)\n",
    "    \n",
    "   \n",
    "    def student_details(self):\n",
    "        print(self.name,self.email)\n",
    "             \n",
    "         "
   ]
  },
  {
   "cell_type": "code",
   "execution_count": 24,
   "id": "37204310-8acb-4f42-8f77-27085eb573b2",
   "metadata": {},
   "outputs": [],
   "source": [
    "stu1 = Studen2.details(\"prince\",\"ear@gmail.com\")"
   ]
  },
  {
   "cell_type": "code",
   "execution_count": 27,
   "id": "bc305f7d-97ab-436d-8106-2c4079433c84",
   "metadata": {},
   "outputs": [
    {
     "data": {
      "text/plain": [
       "'prince'"
      ]
     },
     "execution_count": 27,
     "metadata": {},
     "output_type": "execute_result"
    }
   ],
   "source": [
    "stu1.name"
   ]
  },
  {
   "cell_type": "code",
   "execution_count": 30,
   "id": "5932d6cb-c125-43cb-99c4-382d4f931334",
   "metadata": {},
   "outputs": [
    {
     "data": {
      "text/plain": [
       "'ear@gmail.com'"
      ]
     },
     "execution_count": 30,
     "metadata": {},
     "output_type": "execute_result"
    }
   ],
   "source": [
    "stu1.email"
   ]
  },
  {
   "cell_type": "code",
   "execution_count": null,
   "id": "999dc05f-a416-4488-9338-bc7171ca55fc",
   "metadata": {},
   "outputs": [],
   "source": []
  }
 ],
 "metadata": {
  "kernelspec": {
   "display_name": "Python 3 (ipykernel)",
   "language": "python",
   "name": "python3"
  },
  "language_info": {
   "codemirror_mode": {
    "name": "ipython",
    "version": 3
   },
   "file_extension": ".py",
   "mimetype": "text/x-python",
   "name": "python",
   "nbconvert_exporter": "python",
   "pygments_lexer": "ipython3",
   "version": "3.10.8"
  }
 },
 "nbformat": 4,
 "nbformat_minor": 5
}
