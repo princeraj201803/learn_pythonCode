{
 "cells": [
  {
   "cell_type": "code",
   "execution_count": 9,
   "id": "75ee7895-de5d-4fe2-987a-d10a44b8ec39",
   "metadata": {},
   "outputs": [
    {
     "data": {
      "text/plain": [
       "4"
      ]
     },
     "execution_count": 9,
     "metadata": {},
     "output_type": "execute_result"
    }
   ],
   "source": [
    "2 * 2"
   ]
  },
  {
   "cell_type": "code",
   "execution_count": 10,
   "id": "4a992b30-8261-4d26-b1a0-18b85d68fdc4",
   "metadata": {},
   "outputs": [],
   "source": [
    " p = \"prince\""
   ]
  },
  {
   "cell_type": "code",
   "execution_count": 11,
   "id": "15361073-4d69-4b36-9c28-84b819f77eed",
   "metadata": {},
   "outputs": [
    {
     "data": {
      "text/plain": [
       "'r'"
      ]
     },
     "execution_count": 11,
     "metadata": {},
     "output_type": "execute_result"
    }
   ],
   "source": [
    "p[1]"
   ]
  },
  {
   "cell_type": "code",
   "execution_count": 12,
   "id": "b7e1d727-0080-4c3e-9efe-b90e5e3172e1",
   "metadata": {},
   "outputs": [
    {
     "data": {
      "text/plain": [
       "'p'"
      ]
     },
     "execution_count": 12,
     "metadata": {},
     "output_type": "execute_result"
    }
   ],
   "source": [
    "p[0]"
   ]
  },
  {
   "cell_type": "code",
   "execution_count": 13,
   "id": "0db7a741-e150-4553-be0d-0c3960b892b0",
   "metadata": {},
   "outputs": [
    {
     "data": {
      "text/plain": [
       "'pri'"
      ]
     },
     "execution_count": 13,
     "metadata": {},
     "output_type": "execute_result"
    }
   ],
   "source": [
    "p[0:3]"
   ]
  },
  {
   "cell_type": "code",
   "execution_count": 15,
   "id": "9491545e-69f2-42b2-ba06-6341df95087d",
   "metadata": {},
   "outputs": [
    {
     "data": {
      "text/plain": [
       "'pic'"
      ]
     },
     "execution_count": 15,
     "metadata": {},
     "output_type": "execute_result"
    }
   ],
   "source": [
    "p[0:5:2]"
   ]
  },
  {
   "cell_type": "code",
   "execution_count": 16,
   "id": "7633f315-5a78-44b7-90fb-0423fc2da761",
   "metadata": {},
   "outputs": [
    {
     "data": {
      "text/plain": [
       "'pic'"
      ]
     },
     "execution_count": 16,
     "metadata": {},
     "output_type": "execute_result"
    }
   ],
   "source": [
    "p[::2]"
   ]
  },
  {
   "cell_type": "code",
   "execution_count": 17,
   "id": "d25840d3-8c0e-4794-bd6b-35d923bb771f",
   "metadata": {},
   "outputs": [
    {
     "data": {
      "text/plain": [
       "''"
      ]
     },
     "execution_count": 17,
     "metadata": {},
     "output_type": "execute_result"
    }
   ],
   "source": [
    "p[-1:-6]"
   ]
  },
  {
   "cell_type": "code",
   "execution_count": 19,
   "id": "c5fe93f3-1296-4669-aaf2-b563b567e6f3",
   "metadata": {},
   "outputs": [
    {
     "data": {
      "text/plain": [
       "'ecnirp'"
      ]
     },
     "execution_count": 19,
     "metadata": {},
     "output_type": "execute_result"
    }
   ],
   "source": [
    "p[::-1]"
   ]
  },
  {
   "cell_type": "code",
   "execution_count": 20,
   "id": "cc85e4f2-0342-4db6-8fb1-bef7f91c0d26",
   "metadata": {},
   "outputs": [],
   "source": [
    "s = \"pwskills\""
   ]
  },
  {
   "cell_type": "code",
   "execution_count": 21,
   "id": "3f98687b-efb7-48b5-95f1-9474c00f3b42",
   "metadata": {},
   "outputs": [
    {
     "data": {
      "text/plain": [
       "''"
      ]
     },
     "execution_count": 21,
     "metadata": {},
     "output_type": "execute_result"
    }
   ],
   "source": [
    "s[2:7:-1]"
   ]
  },
  {
   "cell_type": "code",
   "execution_count": 23,
   "id": "f5a85b0e-8512-4bee-9cc5-1714033fb582",
   "metadata": {},
   "outputs": [
    {
     "data": {
      "text/plain": [
       "'w'"
      ]
     },
     "execution_count": 23,
     "metadata": {},
     "output_type": "execute_result"
    }
   ],
   "source": [
    "s[1:0:-1]"
   ]
  },
  {
   "cell_type": "code",
   "execution_count": 24,
   "id": "9608872a-6cc4-46da-938a-6a76f687c247",
   "metadata": {},
   "outputs": [
    {
     "data": {
      "text/plain": [
       "''"
      ]
     },
     "execution_count": 24,
     "metadata": {},
     "output_type": "execute_result"
    }
   ],
   "source": [
    "s[-2:-8:1]"
   ]
  },
  {
   "cell_type": "code",
   "execution_count": 25,
   "id": "204e3fde-7f10-4fdc-af22-9c9f630fc7ea",
   "metadata": {},
   "outputs": [
    {
     "data": {
      "text/plain": [
       "'sllikswp'"
      ]
     },
     "execution_count": 25,
     "metadata": {},
     "output_type": "execute_result"
    }
   ],
   "source": [
    "s[::-1]"
   ]
  },
  {
   "cell_type": "code",
   "execution_count": 26,
   "id": "3ef0ee68-0527-4f89-9ca0-7a46e9a36e78",
   "metadata": {},
   "outputs": [
    {
     "data": {
      "text/plain": [
       "'sllikswp'"
      ]
     },
     "execution_count": 26,
     "metadata": {},
     "output_type": "execute_result"
    }
   ],
   "source": [
    "s[::-1]"
   ]
  },
  {
   "cell_type": "code",
   "execution_count": 29,
   "id": "0681a4cf-0aed-467f-8902-be343147b50a",
   "metadata": {},
   "outputs": [],
   "source": [
    "c = '200'"
   ]
  },
  {
   "cell_type": "code",
   "execution_count": 30,
   "id": "0730c70c-dbe2-4724-82c1-216fcd529593",
   "metadata": {},
   "outputs": [
    {
     "data": {
      "text/plain": [
       "'0'"
      ]
     },
     "execution_count": 30,
     "metadata": {},
     "output_type": "execute_result"
    }
   ],
   "source": [
    "c[1]"
   ]
  },
  {
   "cell_type": "code",
   "execution_count": 31,
   "id": "0312bb5b-d11b-41e3-b863-03b704d05b7d",
   "metadata": {},
   "outputs": [],
   "source": [
    "s1 = \"My name is Prince Raj\""
   ]
  },
  {
   "cell_type": "code",
   "execution_count": 32,
   "id": "95366de6-f282-488d-853b-a60c97ec0e9c",
   "metadata": {},
   "outputs": [
    {
     "data": {
      "text/plain": [
       "11"
      ]
     },
     "execution_count": 32,
     "metadata": {},
     "output_type": "execute_result"
    }
   ],
   "source": [
    "s1.find('P')"
   ]
  },
  {
   "cell_type": "code",
   "execution_count": 33,
   "id": "71721344-109e-44d5-b064-4a9d52fa03c3",
   "metadata": {},
   "outputs": [
    {
     "data": {
      "text/plain": [
       "21"
      ]
     },
     "execution_count": 33,
     "metadata": {},
     "output_type": "execute_result"
    }
   ],
   "source": [
    "len(s1)"
   ]
  },
  {
   "cell_type": "code",
   "execution_count": 35,
   "id": "c46849e8-bcfe-4bae-84d2-3d1a77082c4a",
   "metadata": {},
   "outputs": [
    {
     "data": {
      "text/plain": [
       "1"
      ]
     },
     "execution_count": 35,
     "metadata": {},
     "output_type": "execute_result"
    }
   ],
   "source": [
    "s1.count('P')"
   ]
  },
  {
   "cell_type": "code",
   "execution_count": null,
   "id": "9b369d3e-cb40-4d6e-9659-74d7c2dde1ad",
   "metadata": {},
   "outputs": [],
   "source": []
  }
 ],
 "metadata": {
  "kernelspec": {
   "display_name": "Python 3 (ipykernel)",
   "language": "python",
   "name": "python3"
  },
  "language_info": {
   "codemirror_mode": {
    "name": "ipython",
    "version": 3
   },
   "file_extension": ".py",
   "mimetype": "text/x-python",
   "name": "python",
   "nbconvert_exporter": "python",
   "pygments_lexer": "ipython3",
   "version": "3.10.8"
  }
 },
 "nbformat": 4,
 "nbformat_minor": 5
}
