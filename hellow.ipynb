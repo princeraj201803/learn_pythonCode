{
 "cells": [
  {
   "cell_type": "code",
   "execution_count": 1,
   "id": "0825eff5-1ce9-4357-914f-88b556ed3822",
   "metadata": {},
   "outputs": [
    {
     "name": "stdout",
     "output_type": "stream",
     "text": [
      "hellow World\n"
     ]
    }
   ],
   "source": [
    "print(\"hellow World\")"
   ]
  },
  {
   "cell_type": "code",
   "execution_count": null,
   "id": "5895af69-3142-41d8-af41-8be5cc909b52",
   "metadata": {},
   "outputs": [],
   "source": []
  }
 ],
 "metadata": {
  "kernelspec": {
   "display_name": "Python 3 (ipykernel)",
   "language": "python",
   "name": "python3"
  },
  "language_info": {
   "codemirror_mode": {
    "name": "ipython",
    "version": 3
   },
   "file_extension": ".py",
   "mimetype": "text/x-python",
   "name": "python",
   "nbconvert_exporter": "python",
   "pygments_lexer": "ipython3",
   "version": "3.10.8"
  }
 },
 "nbformat": 4,
 "nbformat_minor": 5
}
