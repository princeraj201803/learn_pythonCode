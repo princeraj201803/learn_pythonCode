{
 "cells": [
  {
   "cell_type": "code",
   "execution_count": 1,
   "id": "b2b2065a-2ac8-4220-85ff-d89be54e0c67",
   "metadata": {},
   "outputs": [],
   "source": [
    "class text:\n",
    "    def __init__(self,a,b):\n",
    "        self.a =a\n",
    "        self.b=b\n",
    "    \n",
    "    "
   ]
  },
  {
   "cell_type": "code",
   "execution_count": 3,
   "id": "b4d1c6bb-b436-4d42-8063-446c57363421",
   "metadata": {},
   "outputs": [],
   "source": [
    "t = text(3,5)"
   ]
  },
  {
   "cell_type": "code",
   "execution_count": 8,
   "id": "487ff215-e6f8-4c87-bc5d-1fc279427b9b",
   "metadata": {},
   "outputs": [],
   "source": [
    "t.a = 54253"
   ]
  },
  {
   "cell_type": "code",
   "execution_count": 9,
   "id": "2b6bcd1a-56c4-4a28-a7b8-e535d4c25cb2",
   "metadata": {},
   "outputs": [
    {
     "data": {
      "text/plain": [
       "54253"
      ]
     },
     "execution_count": 9,
     "metadata": {},
     "output_type": "execute_result"
    }
   ],
   "source": [
    "t.a"
   ]
  },
  {
   "cell_type": "code",
   "execution_count": 5,
   "id": "97b68a64-4ffa-4a1e-ae35-ccd210cb46b6",
   "metadata": {},
   "outputs": [
    {
     "data": {
      "text/plain": [
       "3"
      ]
     },
     "execution_count": 5,
     "metadata": {},
     "output_type": "execute_result"
    }
   ],
   "source": [
    "t.a"
   ]
  },
  {
   "cell_type": "code",
   "execution_count": 6,
   "id": "829e776a-dc10-4509-9f5e-b20fa4d1fdfd",
   "metadata": {},
   "outputs": [],
   "source": [
    "t.a = 542465"
   ]
  },
  {
   "cell_type": "code",
   "execution_count": 7,
   "id": "c6245696-e2ba-4428-8646-e30af1a3d8a8",
   "metadata": {},
   "outputs": [
    {
     "data": {
      "text/plain": [
       "542465"
      ]
     },
     "execution_count": 7,
     "metadata": {},
     "output_type": "execute_result"
    }
   ],
   "source": [
    "t.a"
   ]
  },
  {
   "cell_type": "code",
   "execution_count": 16,
   "id": "fbbe314e-9a1a-4c0e-a921-45c7210c9192",
   "metadata": {},
   "outputs": [],
   "source": [
    "class car:\n",
    "    def __init__(self,year,make,model,speed):\n",
    "        self.__year = year\n",
    "        self.__make = make\n",
    "        self.__model= model\n",
    "        self.__speed = 0\n",
    "        \n",
    "    def speed_"
   ]
  },
  {
   "cell_type": "code",
   "execution_count": 19,
   "id": "c962e28b-3828-4819-9e9e-6cbd3f1edeb0",
   "metadata": {},
   "outputs": [],
   "source": [
    "c = car(2012,\"toyata\",123,98)"
   ]
  },
  {
   "cell_type": "code",
   "execution_count": 21,
   "id": "bf3e13f8-8b74-471a-bc06-739d6c842039",
   "metadata": {},
   "outputs": [
    {
     "data": {
      "text/plain": [
       "2012"
      ]
     },
     "execution_count": 21,
     "metadata": {},
     "output_type": "execute_result"
    }
   ],
   "source": [
    "c._car__year"
   ]
  },
  {
   "cell_type": "code",
   "execution_count": null,
   "id": "fc551ad7-1f0a-45bc-acee-0bc220409af2",
   "metadata": {},
   "outputs": [],
   "source": [
    "class Bank_account:\n",
    "    def __init__(self,balance):\n",
    "        self.__balance = balance\n",
    "    def deposite(self,amount):\n",
    "        self.__balance = self.__balance + amount\n",
    "    def withdraw(self,amount):\n",
    "        if self.__balance>=amount:\n",
    "            self.__balance = self.__balance -amount\n",
    "            return True\n",
    "        else:\n",
    "            return False\n",
    "    def get_balance(self):\n",
    "        return self.__balance"
   ]
  },
  {
   "cell_type": "code",
   "execution_count": null,
   "id": "5e1c979c-c6c6-463c-b5aa-fa148ad00221",
   "metadata": {},
   "outputs": [],
   "source": []
  }
 ],
 "metadata": {
  "kernelspec": {
   "display_name": "Python 3 (ipykernel)",
   "language": "python",
   "name": "python3"
  },
  "language_info": {
   "codemirror_mode": {
    "name": "ipython",
    "version": 3
   },
   "file_extension": ".py",
   "mimetype": "text/x-python",
   "name": "python",
   "nbconvert_exporter": "python",
   "pygments_lexer": "ipython3",
   "version": "3.10.8"
  }
 },
 "nbformat": 4,
 "nbformat_minor": 5
}
