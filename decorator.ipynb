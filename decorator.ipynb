{
 "cells": [
  {
   "cell_type": "code",
   "execution_count": 5,
   "id": "91bd7fcc-24fa-46b0-8b03-c8d270a56498",
   "metadata": {},
   "outputs": [],
   "source": [
    "def test():\n",
    "    print(\"THis is the start of my function\")\n",
    "    print(\"this is my function to print\")\n",
    "    print(2+3)\n",
    "    print(\"This is the end of my function\")\n",
    "    "
   ]
  },
  {
   "cell_type": "code",
   "execution_count": 6,
   "id": "47af5bd7-d0c6-4c39-b9d1-c512e59475cf",
   "metadata": {},
   "outputs": [
    {
     "name": "stdout",
     "output_type": "stream",
     "text": [
      "THis is the start of my function\n",
      "this is my function to print\n",
      "5\n",
      "This is the end of my function\n"
     ]
    }
   ],
   "source": [
    "test()"
   ]
  },
  {
   "cell_type": "code",
   "execution_count": 17,
   "id": "05f8c061-394f-41d3-bc9e-e6c631bff891",
   "metadata": {},
   "outputs": [],
   "source": [
    "def decorate(fun):\n",
    "    def dec_inner_func():\n",
    "        print(\"This is the start of my code\")\n",
    "        fun()\n",
    "        print(\"This is the end of my code\")\n",
    "    return dec_inner_func"
   ]
  },
  {
   "cell_type": "code",
   "execution_count": 18,
   "id": "6c92d93a-e626-41bd-9cd7-a27431cd0d1a",
   "metadata": {},
   "outputs": [],
   "source": [
    "@decorate\n",
    "def test1():\n",
    "    print(\"hi this is prince raj\")\n",
    "    print(12+23)"
   ]
  },
  {
   "cell_type": "code",
   "execution_count": 19,
   "id": "8576db29-b0df-4031-a38f-f29c126d9117",
   "metadata": {},
   "outputs": [
    {
     "name": "stdout",
     "output_type": "stream",
     "text": [
      "This is the start of my code\n",
      "hi this is prince raj\n",
      "35\n",
      "This is the end of my code\n"
     ]
    }
   ],
   "source": [
    "test1()"
   ]
  },
  {
   "cell_type": "code",
   "execution_count": 26,
   "id": "594b4dc3-34e7-4a72-9e79-a37985e1141f",
   "metadata": {},
   "outputs": [],
   "source": [
    "def deparment(func):\n",
    "    def cse():\n",
    "        print(\"This branch got more admision than other branch\")\n",
    "        print(\"this cse is in tranding among student\")\n",
    "        func()\n",
    "    return cse"
   ]
  },
  {
   "cell_type": "code",
   "execution_count": 29,
   "id": "97758789-6dde-4247-b65b-29bb7a90afb9",
   "metadata": {},
   "outputs": [],
   "source": [
    "@deparment\n",
    "def civil():\n",
    "    print(\"This branch ha scope in government sector more\")"
   ]
  },
  {
   "cell_type": "code",
   "execution_count": 30,
   "id": "8d137100-f640-4b28-b4b2-912b3b058fc1",
   "metadata": {},
   "outputs": [
    {
     "name": "stdout",
     "output_type": "stream",
     "text": [
      "This branch got more admision than other branch\n",
      "this cse is in tranding among student\n",
      "This branch ha scope in government sector more\n"
     ]
    }
   ],
   "source": [
    "civil()"
   ]
  },
  {
   "cell_type": "code",
   "execution_count": 31,
   "id": "879a4021-f70a-4005-bb5a-c055bd5927e1",
   "metadata": {},
   "outputs": [],
   "source": [
    "import time\n",
    "\n",
    "def timer_test(func):\n",
    "    def timer_inner_func():\n",
    "        start = time.time()\n",
    "        func()\n",
    "        end = time.time()\n",
    "        print(end-start)\n",
    "    return timer_inner_func"
   ]
  },
  {
   "cell_type": "code",
   "execution_count": 34,
   "id": "12aa4639-6a86-4b7e-9edc-8ba3f61cd603",
   "metadata": {},
   "outputs": [],
   "source": [
    "@timer_test\n",
    "def test2():\n",
    "    print(23+3)"
   ]
  },
  {
   "cell_type": "code",
   "execution_count": 35,
   "id": "85a0f59b-55b3-4b11-b644-3abcfa4a03cf",
   "metadata": {},
   "outputs": [
    {
     "name": "stdout",
     "output_type": "stream",
     "text": [
      "26\n",
      "5.4836273193359375e-05\n"
     ]
    }
   ],
   "source": [
    "test2()"
   ]
  },
  {
   "cell_type": "code",
   "execution_count": 39,
   "id": "24c569eb-7d80-4f2a-9724-086d7e025a58",
   "metadata": {},
   "outputs": [],
   "source": [
    "@timer_test\n",
    "def test3():\n",
    "    for i in range(100003200):\n",
    "        pass"
   ]
  },
  {
   "cell_type": "code",
   "execution_count": 41,
   "id": "c141705e-fcfb-4500-8cb1-333d7a53db82",
   "metadata": {},
   "outputs": [
    {
     "name": "stdout",
     "output_type": "stream",
     "text": [
      "2.666626214981079\n"
     ]
    }
   ],
   "source": [
    "test3()"
   ]
  },
  {
   "cell_type": "code",
   "execution_count": null,
   "id": "a960247d-d437-49eb-bea9-ad5e87206f1e",
   "metadata": {},
   "outputs": [],
   "source": []
  }
 ],
 "metadata": {
  "kernelspec": {
   "display_name": "Python 3 (ipykernel)",
   "language": "python",
   "name": "python3"
  },
  "language_info": {
   "codemirror_mode": {
    "name": "ipython",
    "version": 3
   },
   "file_extension": ".py",
   "mimetype": "text/x-python",
   "name": "python",
   "nbconvert_exporter": "python",
   "pygments_lexer": "ipython3",
   "version": "3.10.8"
  }
 },
 "nbformat": 4,
 "nbformat_minor": 5
}
