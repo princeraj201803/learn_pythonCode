{
 "cells": [
  {
   "cell_type": "code",
   "execution_count": 1,
   "id": "3566e391-030b-4273-b5bf-8491a1f47e35",
   "metadata": {},
   "outputs": [],
   "source": [
    "s = \"prince\""
   ]
  },
  {
   "cell_type": "code",
   "execution_count": 2,
   "id": "e4b635a1-1a8a-4349-a01d-7c68a8524924",
   "metadata": {},
   "outputs": [
    {
     "data": {
      "text/plain": [
       "'i'"
      ]
     },
     "execution_count": 2,
     "metadata": {},
     "output_type": "execute_result"
    }
   ],
   "source": [
    "s[2]"
   ]
  },
  {
   "cell_type": "code",
   "execution_count": 3,
   "id": "87b9ab36-bc40-483e-8181-7e8f1a759499",
   "metadata": {},
   "outputs": [],
   "source": [
    "l = [2,3,4,\"prince\",\"raj\",23.2,43.0]"
   ]
  },
  {
   "cell_type": "code",
   "execution_count": 4,
   "id": "a4b43e62-c6d2-4079-83f2-4c2b0b19b356",
   "metadata": {},
   "outputs": [
    {
     "data": {
      "text/plain": [
       "[2, 3, 4, 'prince', 'raj', 23.2, 43.0]"
      ]
     },
     "execution_count": 4,
     "metadata": {},
     "output_type": "execute_result"
    }
   ],
   "source": [
    "l"
   ]
  },
  {
   "cell_type": "code",
   "execution_count": 5,
   "id": "42895d01-5fc8-4adc-b4fa-3a657691cf0c",
   "metadata": {},
   "outputs": [
    {
     "data": {
      "text/plain": [
       "list"
      ]
     },
     "execution_count": 5,
     "metadata": {},
     "output_type": "execute_result"
    }
   ],
   "source": [
    "type(l)"
   ]
  },
  {
   "cell_type": "code",
   "execution_count": 7,
   "id": "3d85aa7c-737c-431a-a14c-f6caa6d717a1",
   "metadata": {},
   "outputs": [
    {
     "data": {
      "text/plain": [
       "4"
      ]
     },
     "execution_count": 7,
     "metadata": {},
     "output_type": "execute_result"
    }
   ],
   "source": [
    "l[2]"
   ]
  },
  {
   "cell_type": "code",
   "execution_count": 8,
   "id": "299f75d6-998f-488d-9028-fc60117523ea",
   "metadata": {},
   "outputs": [],
   "source": [
    "l[2] = 400"
   ]
  },
  {
   "cell_type": "code",
   "execution_count": 9,
   "id": "b4a069b7-2274-4924-bebf-ec54fe5b2f3c",
   "metadata": {},
   "outputs": [
    {
     "data": {
      "text/plain": [
       "[2, 3, 400, 'prince', 'raj', 23.2, 43.0]"
      ]
     },
     "execution_count": 9,
     "metadata": {},
     "output_type": "execute_result"
    }
   ],
   "source": [
    "l"
   ]
  },
  {
   "cell_type": "code",
   "execution_count": 10,
   "id": "e2ef80e1-7870-4bd4-97ac-a3aab7ff4619",
   "metadata": {},
   "outputs": [
    {
     "data": {
      "text/plain": [
       "'prince'"
      ]
     },
     "execution_count": 10,
     "metadata": {},
     "output_type": "execute_result"
    }
   ],
   "source": [
    "s"
   ]
  },
  {
   "cell_type": "code",
   "execution_count": 13,
   "id": "22ad0d8a-bca5-46d7-8ae4-dce194ec93a4",
   "metadata": {},
   "outputs": [
    {
     "data": {
      "text/plain": [
       "'i'"
      ]
     },
     "execution_count": 13,
     "metadata": {},
     "output_type": "execute_result"
    }
   ],
   "source": [
    "s[2] "
   ]
  },
  {
   "cell_type": "code",
   "execution_count": null,
   "id": "448b2aa2-f99c-40e6-9516-04642dfb6e79",
   "metadata": {},
   "outputs": [],
   "source": []
  }
 ],
 "metadata": {
  "kernelspec": {
   "display_name": "Python 3 (ipykernel)",
   "language": "python",
   "name": "python3"
  },
  "language_info": {
   "codemirror_mode": {
    "name": "ipython",
    "version": 3
   },
   "file_extension": ".py",
   "mimetype": "text/x-python",
   "name": "python",
   "nbconvert_exporter": "python",
   "pygments_lexer": "ipython3",
   "version": "3.10.8"
  }
 },
 "nbformat": 4,
 "nbformat_minor": 5
}
