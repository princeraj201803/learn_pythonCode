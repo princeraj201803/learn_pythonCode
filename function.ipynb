{
 "cells": [
  {
   "cell_type": "code",
   "execution_count": 1,
   "id": "22fe2b53-ea9a-46c3-9e3d-309840e8efa2",
   "metadata": {},
   "outputs": [
    {
     "name": "stdout",
     "output_type": "stream",
     "text": [
      "my name is prince raj\n"
     ]
    }
   ],
   "source": [
    "print(\"my name is prince raj\")"
   ]
  },
  {
   "cell_type": "code",
   "execution_count": 6,
   "id": "abc9a9db-5473-4c77-8b35-91e09ca0677b",
   "metadata": {},
   "outputs": [
    {
     "name": "stdout",
     "output_type": "stream",
     "text": [
      "This is my first function\n"
     ]
    }
   ],
   "source": [
    "def test():\n",
    "    print(\"This is my first function\")\n",
    "test()"
   ]
  },
  {
   "cell_type": "code",
   "execution_count": 7,
   "id": "90b29c0b-e888-4535-8e3d-ca60b2aa92a6",
   "metadata": {},
   "outputs": [
    {
     "name": "stdout",
     "output_type": "stream",
     "text": [
      "This is my first function\n"
     ]
    }
   ],
   "source": [
    "test()"
   ]
  },
  {
   "cell_type": "code",
   "execution_count": 11,
   "id": "6d9feb1a-28b3-4af9-9e24-3f2a1dd93ad0",
   "metadata": {},
   "outputs": [],
   "source": [
    "def test1():\n",
    "    return\"this is first return uses\""
   ]
  },
  {
   "cell_type": "code",
   "execution_count": 12,
   "id": "51871449-315b-402f-9fb7-1da06ffcb144",
   "metadata": {},
   "outputs": [
    {
     "data": {
      "text/plain": [
       "'this is first return uses'"
      ]
     },
     "execution_count": 12,
     "metadata": {},
     "output_type": "execute_result"
    }
   ],
   "source": [
    "test1()"
   ]
  },
  {
   "cell_type": "code",
   "execution_count": 14,
   "id": "57f0c0d8-bf4d-4faf-ba59-10c126a5ec30",
   "metadata": {},
   "outputs": [
    {
     "data": {
      "text/plain": [
       "'this is first return usesprince'"
      ]
     },
     "execution_count": 14,
     "metadata": {},
     "output_type": "execute_result"
    }
   ],
   "source": [
    "test1() + 'prince'"
   ]
  },
  {
   "cell_type": "code",
   "execution_count": 17,
   "id": "f8e3f21c-9b20-4de4-8cd3-0c79bbbf8f3d",
   "metadata": {},
   "outputs": [],
   "source": [
    "def test2():\n",
    "    return \"1,2,3,4,[2,3,'prince']\""
   ]
  },
  {
   "cell_type": "code",
   "execution_count": 18,
   "id": "3d3f6465-28fa-423a-ac99-ea4ef5259f56",
   "metadata": {},
   "outputs": [
    {
     "data": {
      "text/plain": [
       "\"1,2,3,4,[2,3,'prince']\""
      ]
     },
     "execution_count": 18,
     "metadata": {},
     "output_type": "execute_result"
    }
   ],
   "source": [
    "test2()"
   ]
  },
  {
   "cell_type": "code",
   "execution_count": 25,
   "id": "d4a3864c-0ce2-4b3e-8a78-98f3877aae34",
   "metadata": {},
   "outputs": [
    {
     "ename": "ValueError",
     "evalue": "too many values to unpack (expected 3)",
     "output_type": "error",
     "traceback": [
      "\u001b[0;31m---------------------------------------------------------------------------\u001b[0m",
      "\u001b[0;31mValueError\u001b[0m                                Traceback (most recent call last)",
      "Cell \u001b[0;32mIn[25], line 1\u001b[0m\n\u001b[0;32m----> 1\u001b[0m a,s,r\u001b[38;5;241m=\u001b[39m test2()\n",
      "\u001b[0;31mValueError\u001b[0m: too many values to unpack (expected 3)"
     ]
    }
   ],
   "source": [
    "a,s,r = test2()"
   ]
  },
  {
   "cell_type": "code",
   "execution_count": 26,
   "id": "3c354aa8-17cf-4ec9-93d7-cec1a49aa9fe",
   "metadata": {},
   "outputs": [],
   "source": [
    "def test3(a,b,c):\n",
    "    d = a+b/c\n",
    "    return d"
   ]
  },
  {
   "cell_type": "code",
   "execution_count": 28,
   "id": "e62eed9c-6d51-40e4-926a-3a910a2408c8",
   "metadata": {},
   "outputs": [
    {
     "data": {
      "text/plain": [
       "0.6"
      ]
     },
     "execution_count": 28,
     "metadata": {},
     "output_type": "execute_result"
    }
   ],
   "source": [
    "test3(5,3,5)"
   ]
  },
  {
   "cell_type": "code",
   "execution_count": 29,
   "id": "875d6c63-6fa2-4639-9d55-e90179329a64",
   "metadata": {},
   "outputs": [],
   "source": [
    "def test6(a,b):\n",
    "    return a+b"
   ]
  },
  {
   "cell_type": "code",
   "execution_count": 31,
   "id": "b33deed7-c79e-4be3-829a-a3ef54ce6d30",
   "metadata": {},
   "outputs": [
    {
     "data": {
      "text/plain": [
       "5"
      ]
     },
     "execution_count": 31,
     "metadata": {},
     "output_type": "execute_result"
    }
   ],
   "source": [
    "test6(2,3)"
   ]
  },
  {
   "cell_type": "code",
   "execution_count": 33,
   "id": "2c9c5f15-93a9-4f7c-ac98-234d747d8253",
   "metadata": {},
   "outputs": [
    {
     "data": {
      "text/plain": [
       "'rahggh'"
      ]
     },
     "execution_count": 33,
     "metadata": {},
     "output_type": "execute_result"
    }
   ],
   "source": [
    "test6(\"rah\",\"ggh\")"
   ]
  },
  {
   "cell_type": "code",
   "execution_count": 34,
   "id": "1eac825a-9ffd-468a-a4a5-0e2c4c9e7164",
   "metadata": {},
   "outputs": [],
   "source": [
    "l = [2,3,4,\"prince\",[7,8,9]]"
   ]
  },
  {
   "cell_type": "code",
   "execution_count": 35,
   "id": "ae9000e2-3014-4b83-8f2f-0601e5d75926",
   "metadata": {},
   "outputs": [
    {
     "data": {
      "text/plain": [
       "[2, 3, 4, 'prince', [7, 8, 9]]"
      ]
     },
     "execution_count": 35,
     "metadata": {},
     "output_type": "execute_result"
    }
   ],
   "source": [
    "l"
   ]
  },
  {
   "cell_type": "code",
   "execution_count": 56,
   "id": "1d7dc6bd-26bd-4926-8275-fafa456a1424",
   "metadata": {},
   "outputs": [],
   "source": [
    "l2 = []\n",
    "for i in l:\n",
    "    if type(i) == int or type(i) == float :\n",
    "        l2.append(i)\n",
    "    "
   ]
  },
  {
   "cell_type": "code",
   "execution_count": 57,
   "id": "adb49a6d-d177-4ba4-8b8c-78c0010230e9",
   "metadata": {},
   "outputs": [
    {
     "data": {
      "text/plain": [
       "[2, 3, 4]"
      ]
     },
     "execution_count": 57,
     "metadata": {},
     "output_type": "execute_result"
    }
   ],
   "source": [
    "l2"
   ]
  },
  {
   "cell_type": "code",
   "execution_count": 52,
   "id": "1b6226ec-3f36-43cc-b06e-60472e25cab6",
   "metadata": {},
   "outputs": [],
   "source": [
    "def test7():\n",
    "    l2 = []\n",
    "    for i in l:\n",
    "        if type(i) == int and type(i) == str:\n",
    "            l2.append(i)\n",
    "    return l2"
   ]
  },
  {
   "cell_type": "code",
   "execution_count": 58,
   "id": "363a1211-376e-4a59-88c1-7c377726e9bb",
   "metadata": {},
   "outputs": [
    {
     "data": {
      "text/plain": [
       "[2, 3, 4]"
      ]
     },
     "execution_count": 58,
     "metadata": {},
     "output_type": "execute_result"
    }
   ],
   "source": [
    "l2"
   ]
  },
  {
   "cell_type": "code",
   "execution_count": 48,
   "id": "87fcbff1-d669-4011-b7f3-9803ccf7050a",
   "metadata": {},
   "outputs": [
    {
     "data": {
      "text/plain": [
       "[2, 3, 4, 'prince', [7, 8, 9]]"
      ]
     },
     "execution_count": 48,
     "metadata": {},
     "output_type": "execute_result"
    }
   ],
   "source": [
    "l"
   ]
  },
  {
   "cell_type": "code",
   "execution_count": 59,
   "id": "e4b061d3-cd53-4507-bae6-3022c7ef4601",
   "metadata": {},
   "outputs": [
    {
     "data": {
      "text/plain": [
       "[2, 3, 4]"
      ]
     },
     "execution_count": 59,
     "metadata": {},
     "output_type": "execute_result"
    }
   ],
   "source": [
    "l1"
   ]
  },
  {
   "cell_type": "code",
   "execution_count": 65,
   "id": "052f22e4-e80e-4f51-8cad-250c80be850f",
   "metadata": {},
   "outputs": [],
   "source": [
    "def test8(*prince):\n",
    "    \n",
    "    return prince"
   ]
  },
  {
   "cell_type": "code",
   "execution_count": 66,
   "id": "3a62bac9-7005-4b1b-b2f3-b80a0cdd0b68",
   "metadata": {},
   "outputs": [
    {
     "data": {
      "text/plain": [
       "()"
      ]
     },
     "execution_count": 66,
     "metadata": {},
     "output_type": "execute_result"
    }
   ],
   "source": [
    "test8()"
   ]
  },
  {
   "cell_type": "code",
   "execution_count": 67,
   "id": "fa88e4c2-22d0-4c89-b5d3-9db8d3fd471b",
   "metadata": {},
   "outputs": [
    {
     "data": {
      "text/plain": [
       "tuple"
      ]
     },
     "execution_count": 67,
     "metadata": {},
     "output_type": "execute_result"
    }
   ],
   "source": [
    "type(test8())"
   ]
  },
  {
   "cell_type": "code",
   "execution_count": 68,
   "id": "73802a24-1b34-469f-982d-c0a0515717b5",
   "metadata": {},
   "outputs": [
    {
     "data": {
      "text/plain": [
       "(2, 34, 6, 3, 6, 4)"
      ]
     },
     "execution_count": 68,
     "metadata": {},
     "output_type": "execute_result"
    }
   ],
   "source": [
    "test8(2,34,6,3,6,4)"
   ]
  },
  {
   "cell_type": "code",
   "execution_count": 69,
   "id": "6d644ba1-dd90-4845-9948-70305de1903a",
   "metadata": {},
   "outputs": [],
   "source": [
    "def test9(*args,w):\n",
    "    return args,w\n",
    "    "
   ]
  },
  {
   "cell_type": "code",
   "execution_count": 71,
   "id": "7d62665f-f6d5-4fa1-96c1-4cd7345dec65",
   "metadata": {},
   "outputs": [
    {
     "data": {
      "text/plain": [
       "((5, 3, 4, 56, 'prince'), 123)"
      ]
     },
     "execution_count": 71,
     "metadata": {},
     "output_type": "execute_result"
    }
   ],
   "source": [
    "test9(5,3,4,56,\"prince\",w = 123)"
   ]
  },
  {
   "cell_type": "code",
   "execution_count": 72,
   "id": "7de45a3b-e851-4038-943f-33b1e776c7cd",
   "metadata": {},
   "outputs": [],
   "source": [
    "def test10(c,d,a=12,b=23):\n",
    "    return a,b,c,d"
   ]
  },
  {
   "cell_type": "code",
   "execution_count": 74,
   "id": "257a09ea-ac0d-4a11-b3fd-ac5f988b750e",
   "metadata": {},
   "outputs": [
    {
     "data": {
      "text/plain": [
       "(12, 23, 13, 43)"
      ]
     },
     "execution_count": 74,
     "metadata": {},
     "output_type": "execute_result"
    }
   ],
   "source": [
    "test10(13,43)"
   ]
  },
  {
   "cell_type": "code",
   "execution_count": 75,
   "id": "80483d47-5f35-4862-8f93-282c3b2ee03f",
   "metadata": {},
   "outputs": [],
   "source": [
    "def test11(**pri):\n",
    "    return pri"
   ]
  },
  {
   "cell_type": "code",
   "execution_count": 76,
   "id": "b9eefbc1-d409-452c-95ab-ade9088a81c1",
   "metadata": {},
   "outputs": [
    {
     "data": {
      "text/plain": [
       "{}"
      ]
     },
     "execution_count": 76,
     "metadata": {},
     "output_type": "execute_result"
    }
   ],
   "source": [
    "test11()"
   ]
  },
  {
   "cell_type": "code",
   "execution_count": 77,
   "id": "9d77d24d-eda8-4997-80df-4648e73c0bd1",
   "metadata": {},
   "outputs": [
    {
     "data": {
      "text/plain": [
       "{'a': 'prince', 'b': 123, 'c': 567}"
      ]
     },
     "execution_count": 77,
     "metadata": {},
     "output_type": "execute_result"
    }
   ],
   "source": [
    "test11(a=\"prince\",b =123,c=567)"
   ]
  },
  {
   "cell_type": "code",
   "execution_count": 80,
   "id": "801012b4-3eda-43fc-8eed-1b8cd0ab7495",
   "metadata": {},
   "outputs": [
    {
     "data": {
      "text/plain": [
       "range(0, 10)"
      ]
     },
     "execution_count": 80,
     "metadata": {},
     "output_type": "execute_result"
    }
   ],
   "source": [
    "range(10)"
   ]
  },
  {
   "cell_type": "code",
   "execution_count": 82,
   "id": "ced48687-9c39-41d9-93cf-9e88d9ba92bd",
   "metadata": {},
   "outputs": [
    {
     "name": "stdout",
     "output_type": "stream",
     "text": [
      "0\n",
      "1\n",
      "2\n",
      "3\n",
      "4\n",
      "5\n",
      "6\n",
      "7\n",
      "8\n",
      "9\n"
     ]
    }
   ],
   "source": [
    "for i in range(10):\n",
    "    print(i)\n"
   ]
  },
  {
   "cell_type": "code",
   "execution_count": null,
   "id": "a416dd7e-54b1-4875-83dd-0b387b3eb130",
   "metadata": {},
   "outputs": [],
   "source": []
  }
 ],
 "metadata": {
  "kernelspec": {
   "display_name": "Python 3 (ipykernel)",
   "language": "python",
   "name": "python3"
  },
  "language_info": {
   "codemirror_mode": {
    "name": "ipython",
    "version": 3
   },
   "file_extension": ".py",
   "mimetype": "text/x-python",
   "name": "python",
   "nbconvert_exporter": "python",
   "pygments_lexer": "ipython3",
   "version": "3.10.8"
  }
 },
 "nbformat": 4,
 "nbformat_minor": 5
}
