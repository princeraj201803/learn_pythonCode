{
 "cells": [
  {
   "cell_type": "code",
   "execution_count": 1,
   "id": "b457e299-9a64-4af8-a630-b846f5444040",
   "metadata": {},
   "outputs": [],
   "source": [
    "l1 = [45,'sudh',21,432]"
   ]
  },
  {
   "cell_type": "code",
   "execution_count": 5,
   "id": "2e753b24-e487-46f3-8cf9-0eda1923b6e4",
   "metadata": {},
   "outputs": [],
   "source": [
    "l1.append(4)"
   ]
  },
  {
   "cell_type": "code",
   "execution_count": 9,
   "id": "0106048f-2c35-4ba5-a9ef-e41e24ffd37f",
   "metadata": {},
   "outputs": [
    {
     "data": {
      "text/plain": [
       "[45, 'sudh', 21, 432, 4]"
      ]
     },
     "execution_count": 9,
     "metadata": {},
     "output_type": "execute_result"
    }
   ],
   "source": [
    "l1"
   ]
  },
  {
   "cell_type": "code",
   "execution_count": 11,
   "id": "9d20eed5-bd1e-4f4b-ab03-658bf949ac66",
   "metadata": {},
   "outputs": [
    {
     "data": {
      "text/plain": [
       "[45, 'sudh', 21, 432, 4]"
      ]
     },
     "execution_count": 11,
     "metadata": {},
     "output_type": "execute_result"
    }
   ],
   "source": [
    "l1"
   ]
  },
  {
   "cell_type": "code",
   "execution_count": 12,
   "id": "f5a6f433-36a8-4555-9c56-790c6089afc1",
   "metadata": {},
   "outputs": [
    {
     "data": {
      "text/plain": [
       "[45, 'sudh', 21, 432, 4]"
      ]
     },
     "execution_count": 12,
     "metadata": {},
     "output_type": "execute_result"
    }
   ],
   "source": [
    "l1"
   ]
  },
  {
   "cell_type": "code",
   "execution_count": 13,
   "id": "f85e309f-5eef-4fc3-8dc3-beddeadc6176",
   "metadata": {},
   "outputs": [
    {
     "data": {
      "text/plain": [
       "[45, 'sudh', 21, 432, 4]"
      ]
     },
     "execution_count": 13,
     "metadata": {},
     "output_type": "execute_result"
    }
   ],
   "source": [
    "l1"
   ]
  },
  {
   "cell_type": "code",
   "execution_count": 14,
   "id": "51947c9e-4aab-4f60-b5b7-68d46718c6fa",
   "metadata": {},
   "outputs": [],
   "source": [
    "s =\"PrinceRaj\""
   ]
  },
  {
   "cell_type": "code",
   "execution_count": 16,
   "id": "4e9d378b-a71c-4ded-9d7f-5b88d88d80e4",
   "metadata": {},
   "outputs": [
    {
     "data": {
      "text/plain": [
       "'PrinceRaj'"
      ]
     },
     "execution_count": 16,
     "metadata": {},
     "output_type": "execute_result"
    }
   ],
   "source": [
    "s"
   ]
  },
  {
   "cell_type": "code",
   "execution_count": 25,
   "id": "8e849598-73dc-4ef9-89cc-576261edb734",
   "metadata": {},
   "outputs": [],
   "source": [
    "# tuples\n",
    "t = (2,1,3,4,\"prince\",23.11)"
   ]
  },
  {
   "cell_type": "code",
   "execution_count": 26,
   "id": "5b170637-e8c0-4e27-bd8d-5a0f26490c8d",
   "metadata": {},
   "outputs": [
    {
     "data": {
      "text/plain": [
       "tuple"
      ]
     },
     "execution_count": 26,
     "metadata": {},
     "output_type": "execute_result"
    }
   ],
   "source": [
    "type(t)"
   ]
  },
  {
   "cell_type": "code",
   "execution_count": 27,
   "id": "802e4479-8509-4adb-9cd9-cb4e20338a54",
   "metadata": {},
   "outputs": [
    {
     "data": {
      "text/plain": [
       "(2, 1, 3, 4, 'prince', 23.11)"
      ]
     },
     "execution_count": 27,
     "metadata": {},
     "output_type": "execute_result"
    }
   ],
   "source": [
    "t"
   ]
  },
  {
   "cell_type": "code",
   "execution_count": 28,
   "id": "819c252d-5eb0-4d63-b989-fcf720780f9b",
   "metadata": {},
   "outputs": [
    {
     "data": {
      "text/plain": [
       "2"
      ]
     },
     "execution_count": 28,
     "metadata": {},
     "output_type": "execute_result"
    }
   ],
   "source": [
    "t[0]"
   ]
  },
  {
   "cell_type": "code",
   "execution_count": 29,
   "id": "ff92b1d1-8b6a-43e1-987e-054c19ebc191",
   "metadata": {},
   "outputs": [
    {
     "data": {
      "text/plain": [
       "23.11"
      ]
     },
     "execution_count": 29,
     "metadata": {},
     "output_type": "execute_result"
    }
   ],
   "source": [
    "t[-1]"
   ]
  },
  {
   "cell_type": "code",
   "execution_count": 30,
   "id": "90f077f2-01b5-4f6a-b753-42053ef2f7c1",
   "metadata": {},
   "outputs": [
    {
     "data": {
      "text/plain": [
       "(23.11, 'prince', 4, 3, 1, 2)"
      ]
     },
     "execution_count": 30,
     "metadata": {},
     "output_type": "execute_result"
    }
   ],
   "source": [
    "t[::-1]"
   ]
  },
  {
   "cell_type": "code",
   "execution_count": 31,
   "id": "0891aa89-6488-4323-8078-31070548d7ad",
   "metadata": {},
   "outputs": [
    {
     "data": {
      "text/plain": [
       "[45, 'sudh', 21, 432, 4]"
      ]
     },
     "execution_count": 31,
     "metadata": {},
     "output_type": "execute_result"
    }
   ],
   "source": [
    "l1"
   ]
  },
  {
   "cell_type": "code",
   "execution_count": 32,
   "id": "f421db76-c4b7-42e2-abf1-a9b0079d8a23",
   "metadata": {},
   "outputs": [],
   "source": [
    "l1[1] = 123"
   ]
  },
  {
   "cell_type": "code",
   "execution_count": 33,
   "id": "1457d107-e36c-4b00-bd2c-30e88fa09826",
   "metadata": {},
   "outputs": [
    {
     "data": {
      "text/plain": [
       "[45, 123, 21, 432, 4]"
      ]
     },
     "execution_count": 33,
     "metadata": {},
     "output_type": "execute_result"
    }
   ],
   "source": [
    "l1"
   ]
  },
  {
   "cell_type": "code",
   "execution_count": 34,
   "id": "8b8d1fd9-8a1c-4acd-ab59-2b0b70934aec",
   "metadata": {},
   "outputs": [
    {
     "data": {
      "text/plain": [
       "2"
      ]
     },
     "execution_count": 34,
     "metadata": {},
     "output_type": "execute_result"
    }
   ],
   "source": [
    "t[0]"
   ]
  },
  {
   "cell_type": "code",
   "execution_count": 40,
   "id": "3b4f1fc9-e711-4d0c-91d2-75e80a2ffb89",
   "metadata": {},
   "outputs": [
    {
     "data": {
      "text/plain": [
       "1"
      ]
     },
     "execution_count": 40,
     "metadata": {},
     "output_type": "execute_result"
    }
   ],
   "source": [
    "t.count(2)"
   ]
  },
  {
   "cell_type": "code",
   "execution_count": 42,
   "id": "67a82e5c-8512-4d2c-84fe-47d65bfbe1f1",
   "metadata": {},
   "outputs": [
    {
     "data": {
      "text/plain": [
       "5"
      ]
     },
     "execution_count": 42,
     "metadata": {},
     "output_type": "execute_result"
    }
   ],
   "source": [
    "t.index(2)"
   ]
  },
  {
   "cell_type": "code",
   "execution_count": 45,
   "id": "89473654-37eb-4945-a81b-71a578ba9a16",
   "metadata": {},
   "outputs": [],
   "source": [
    "#set\n",
    "s1 = {}"
   ]
  },
  {
   "cell_type": "code",
   "execution_count": 46,
   "id": "0cfd90de-14d8-4554-9b58-71c7ecc16622",
   "metadata": {},
   "outputs": [
    {
     "data": {
      "text/plain": [
       "dict"
      ]
     },
     "execution_count": 46,
     "metadata": {},
     "output_type": "execute_result"
    }
   ],
   "source": [
    "type(s1)"
   ]
  },
  {
   "cell_type": "code",
   "execution_count": 47,
   "id": "4cd15815-d9eb-4fe6-b711-dc308423eb46",
   "metadata": {},
   "outputs": [],
   "source": [
    "s2 = {1,2,3,4}"
   ]
  },
  {
   "cell_type": "code",
   "execution_count": 48,
   "id": "ad228593-119d-4159-b45a-c32d18a4272a",
   "metadata": {},
   "outputs": [
    {
     "data": {
      "text/plain": [
       "set"
      ]
     },
     "execution_count": 48,
     "metadata": {},
     "output_type": "execute_result"
    }
   ],
   "source": [
    "type(s2)"
   ]
  },
  {
   "cell_type": "code",
   "execution_count": 50,
   "id": "e8366e4f-a82c-42e5-92db-4a3dbf57f38b",
   "metadata": {},
   "outputs": [],
   "source": [
    "s3 = {234,23,43,\"prince\",45.43,(2,34,2)}"
   ]
  },
  {
   "cell_type": "code",
   "execution_count": 51,
   "id": "21b4cc21-56c4-49dd-9dcf-be311d405836",
   "metadata": {},
   "outputs": [
    {
     "data": {
      "text/plain": [
       "{(2, 34, 2), 23, 234, 43, 45.43, 'prince'}"
      ]
     },
     "execution_count": 51,
     "metadata": {},
     "output_type": "execute_result"
    }
   ],
   "source": [
    "s3"
   ]
  },
  {
   "cell_type": "code",
   "execution_count": 55,
   "id": "31af975f-8ef3-4fda-862e-2b6169fe5d58",
   "metadata": {},
   "outputs": [],
   "source": [
    "s4 = {2,3,45,2,654,6,2,3,45,654,3,7,5,89,'prince,'prince'}"
   ]
  },
  {
   "cell_type": "code",
   "execution_count": 56,
   "id": "0a17bdd4-11b5-4ba9-9585-53cea5788902",
   "metadata": {},
   "outputs": [
    {
     "data": {
      "text/plain": [
       "{2, 3, 45, 5, 6, 654, 7, 89, 'prince'}"
      ]
     },
     "execution_count": 56,
     "metadata": {},
     "output_type": "execute_result"
    }
   ],
   "source": [
    "s4"
   ]
  },
  {
   "cell_type": "code",
   "execution_count": 58,
   "id": "620eb944-88d9-4448-a587-f1790af2ae8f",
   "metadata": {},
   "outputs": [
    {
     "data": {
      "text/plain": [
       "{2, 3, 45, 5, 6, 654, 7, 89, 'prince'}"
      ]
     },
     "execution_count": 58,
     "metadata": {},
     "output_type": "execute_result"
    }
   ],
   "source": [
    "s4"
   ]
  },
  {
   "cell_type": "code",
   "execution_count": 59,
   "id": "3905bb97-1d74-4333-8cfd-f62a94561368",
   "metadata": {},
   "outputs": [
    {
     "data": {
      "text/plain": [
       "{2, 3, 45, 5, 6, 654, 7, 89, 'prince'}"
      ]
     },
     "execution_count": 59,
     "metadata": {},
     "output_type": "execute_result"
    }
   ],
   "source": [
    "s4"
   ]
  },
  {
   "cell_type": "code",
   "execution_count": 2,
   "id": "292edd8a-0cce-4322-9233-5cf4e21def55",
   "metadata": {},
   "outputs": [],
   "source": [
    "s4 = {2,3,4,3,2,2,3,4,56,5,78,19,23,\"prince\"}"
   ]
  },
  {
   "cell_type": "code",
   "execution_count": 3,
   "id": "2aee6df3-a6e3-49c0-9452-e0caa9a5e3e0",
   "metadata": {},
   "outputs": [
    {
     "data": {
      "text/plain": [
       "{19, 2, 23, 3, 4, 5, 56, 78, 'prince'}"
      ]
     },
     "execution_count": 3,
     "metadata": {},
     "output_type": "execute_result"
    }
   ],
   "source": [
    "s4"
   ]
  },
  {
   "cell_type": "code",
   "execution_count": 4,
   "id": "b226048a-2d3a-4f9a-a3ca-2920134ec37d",
   "metadata": {},
   "outputs": [
    {
     "data": {
      "text/plain": [
       "set"
      ]
     },
     "execution_count": 4,
     "metadata": {},
     "output_type": "execute_result"
    }
   ],
   "source": [
    "type(s4)"
   ]
  },
  {
   "cell_type": "code",
   "execution_count": 7,
   "id": "24e1b0bb-a6c9-4587-a0f9-2e52b4042dbf",
   "metadata": {},
   "outputs": [],
   "source": [
    "s4.add(\"raj\")"
   ]
  },
  {
   "cell_type": "code",
   "execution_count": 8,
   "id": "9dbf6544-6a4d-47ef-a1ab-b7fbb7334d60",
   "metadata": {},
   "outputs": [
    {
     "data": {
      "text/plain": [
       "{19, 2, 23, 3, 4, 5, 56, 78, 'prince', 'raj'}"
      ]
     },
     "execution_count": 8,
     "metadata": {},
     "output_type": "execute_result"
    }
   ],
   "source": [
    "s4"
   ]
  },
  {
   "cell_type": "code",
   "execution_count": 9,
   "id": "26af570d-7ca9-41a0-a19c-7214f02d61d6",
   "metadata": {},
   "outputs": [],
   "source": [
    "s4.remove(\"raj\")"
   ]
  },
  {
   "cell_type": "code",
   "execution_count": 10,
   "id": "12982498-cbbc-4071-bc4c-50fe25b8b758",
   "metadata": {},
   "outputs": [
    {
     "data": {
      "text/plain": [
       "{19, 2, 23, 3, 4, 5, 56, 78, 'prince'}"
      ]
     },
     "execution_count": 10,
     "metadata": {},
     "output_type": "execute_result"
    }
   ],
   "source": [
    "s4"
   ]
  },
  {
   "cell_type": "code",
   "execution_count": null,
   "id": "3ef48011-de78-4880-a30a-d64706fba4cc",
   "metadata": {},
   "outputs": [],
   "source": []
  }
 ],
 "metadata": {
  "kernelspec": {
   "display_name": "Python 3 (ipykernel)",
   "language": "python",
   "name": "python3"
  },
  "language_info": {
   "codemirror_mode": {
    "name": "ipython",
    "version": 3
   },
   "file_extension": ".py",
   "mimetype": "text/x-python",
   "name": "python",
   "nbconvert_exporter": "python",
   "pygments_lexer": "ipython3",
   "version": "3.10.8"
  }
 },
 "nbformat": 4,
 "nbformat_minor": 5
}
